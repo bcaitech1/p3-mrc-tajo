{
 "cells": [
  {
   "cell_type": "code",
   "execution_count": 1,
   "metadata": {
    "colab": {
     "base_uri": "https://localhost:8080/"
    },
    "id": "O_jk4DpFS61f",
    "outputId": "0e39b432-92e3-4889-d530-eb298da71880"
   },
   "outputs": [],
   "source": [
    "# !pip install datasets\n",
    "# !pip install rank_bm25\n",
    "# !pip install jamo\n",
    "# !pip install customized_konlpy\n",
    "# !pip install konlpy\n",
    "# !git clone https://github.com/SOMJANG/Mecab-ko-for-Google-Colab.git\n",
    "# !cd Mecab-ko-for-Google-Colab && bash install_mecab-ko_on_colab190912.sh"
   ]
  },
  {
   "cell_type": "code",
   "execution_count": 71,
   "metadata": {
    "id": "EW3sjGNGO3DN"
   },
   "outputs": [],
   "source": [
    "import json\n",
    "import zipfile\n",
    "from datasets import load_from_disk\n",
    "from collections import OrderedDict\n",
    "from tqdm.notebook import tqdm\n",
    "import pandas as pd\n",
    "from collections import Counter\n",
    "\n",
    "from konlpy.tag import Mecab\n",
    "from ckonlpy.tag import Twitter\n",
    "from pororo import Pororo"
   ]
  },
  {
   "cell_type": "code",
   "execution_count": 72,
   "metadata": {
    "colab": {
     "base_uri": "https://localhost:8080/"
    },
    "id": "666OLw9oSC0a",
    "outputId": "c1565f35-0620-4756-e8d8-ce35fa6488ee"
   },
   "outputs": [
    {
     "name": "stdout",
     "output_type": "stream",
     "text": [
      "Dataset({\n",
      "    features: ['__index_level_0__', 'answers', 'context', 'document_id', 'id', 'question', 'title'],\n",
      "    num_rows: 3952\n",
      "})\n"
     ]
    }
   ],
   "source": [
    "train_dataset = load_from_disk('/opt/ml/code/data/train_dataset/train')\n",
    "print(train_dataset)"
   ]
  },
  {
   "cell_type": "code",
   "execution_count": 3,
   "metadata": {
    "colab": {
     "base_uri": "https://localhost:8080/"
    },
    "id": "_TurlNnNfM4m",
    "outputId": "f29a0631-9105-41d2-fd1e-293eb8ce9992"
   },
   "outputs": [
    {
     "name": "stdout",
     "output_type": "stream",
     "text": [
      "Dataset({\n",
      "    features: ['__index_level_0__', 'answers', 'context', 'document_id', 'id', 'question', 'title'],\n",
      "    num_rows: 240\n",
      "})\n"
     ]
    }
   ],
   "source": [
    "valid_dataset = load_from_disk('/opt/ml/code/data/train_dataset/validation')\n",
    "print(valid_dataset)"
   ]
  },
  {
   "cell_type": "code",
   "execution_count": 4,
   "metadata": {},
   "outputs": [
    {
     "name": "stdout",
     "output_type": "stream",
     "text": [
      "Dataset({\n",
      "    features: ['id', 'question'],\n",
      "    num_rows: 600\n",
      "})\n"
     ]
    }
   ],
   "source": [
    "test_dataset = load_from_disk('/opt/ml/code/data/test_dataset/validation')\n",
    "print(test_dataset)"
   ]
  },
  {
   "cell_type": "code",
   "execution_count": 1,
   "metadata": {},
   "outputs": [],
   "source": [
    "mecab = Mecab()\n",
    "twitter = Twitter()"
   ]
  },
  {
   "cell_type": "code",
   "execution_count": 50,
   "metadata": {
    "colab": {
     "base_uri": "https://localhost:8080/"
    },
    "id": "5iW8zQZYkNCE",
    "outputId": "cf3c5d8a-f701-4d28-e7de-8e31e5b21d25"
   },
   "outputs": [],
   "source": [
    "corpus_train = train_dataset['question'] + valid_dataset['question']\n",
    "corpus_test = test_dataset['question']"
   ]
  },
  {
   "cell_type": "code",
   "execution_count": 66,
   "metadata": {
    "id": "71pJkhuL3O_k"
   },
   "outputs": [
    {
     "data": {
      "application/vnd.jupyter.widget-view+json": {
       "model_id": "1b73c7bf474944eaba4238107c41c773",
       "version_major": 2,
       "version_minor": 0
      },
      "text/plain": [
       "HBox(children=(FloatProgress(value=0.0, max=600.0), HTML(value='')))"
      ]
     },
     "metadata": {},
     "output_type": "display_data"
    },
    {
     "name": "stdout",
     "output_type": "stream",
     "text": [
      "\n"
     ]
    }
   ],
   "source": [
    "compounds_test = []\n",
    "josa = list(filter(lambda x: len(x) <= 2, twitter.dictionary._pos2words['Josa'])) + ['때', '끝', '위', '상', '하', '앞', '뒤', '후', '뜻', '시', '군', '구', '리', '도']\n",
    "for corp in tqdm(corpus_test):\n",
    "    flag = 0\n",
    "    ngrams = []\n",
    "    pos = mecab.pos(corp)\n",
    "    for i in range(len(pos)-3):\n",
    "        if flag == 1:\n",
    "            flag += 1\n",
    "        elif flag == 2:\n",
    "            flag = 0\n",
    "            \n",
    "        if (pos[i][1] == pos[i+1][1] == pos[i+2][1] == pos[i+3][1] == 'NNG') and (\n",
    "            len(pos[i][0]) == 1 or len(pos[i+1][0]) == 1 or len(pos[i+2][0]) == 1 or len(pos[i+3][0]) == 1) and (\n",
    "                pos[i][0] not in josa and pos[i+1][0] not in josa and pos[i+2][0] not in josa and pos[i+3][0] not in josa):\n",
    "            string = pos[i][0] + pos[i+1][0] + pos[i+2][0] + pos[i+3][0]\n",
    "            ngrams.append(string)\n",
    "            flag = 1\n",
    "\n",
    "        elif (pos[i][1] == pos[i+1][1] == pos[i+2][1] == 'NNG') and (\n",
    "            len(pos[i][0]) == 1 or len(pos[i+1][0]) == 1 or len(pos[i+2][0]) == 1) and (\n",
    "                pos[i][0] not in josa and pos[i+1][0] not in josa and pos[i+2][0] not in josa):\n",
    "            string = pos[i][0] + pos[i+1][0] + pos[i+2][0]\n",
    "            ngrams.append(string)\n",
    "            flag = 1\n",
    "\n",
    "        elif not flag and (pos[i][1] == pos[i+1][1] == 'NNG') and (\n",
    "            len(pos[i][0]) == 1 or len(pos[i+1][0]) == 1) and (\n",
    "                pos[i][0] not in josa and pos[i+1][0] not in josa):\n",
    "            string = pos[i][0] + pos[i+1][0]\n",
    "            ngrams.append(string)\n",
    "                \n",
    "    compounds_test += list(set(ngrams))\n",
    "compounds_test = Counter(compounds_test)"
   ]
  },
  {
   "cell_type": "code",
   "execution_count": 67,
   "metadata": {
    "colab": {
     "base_uri": "https://localhost:8080/"
    },
    "id": "Bd9n0Ng5cOG2",
    "outputId": "65b6f3e4-1794-4445-cc25-be725e3bfcb4"
   },
   "outputs": [
    {
     "name": "stdout",
     "output_type": "stream",
     "text": [
      "71 / 71\n"
     ]
    }
   ],
   "source": [
    "import re\n",
    "def iskorean(word):\n",
    "    reg = re.compile(r'[가-힣]')\n",
    "    return word if reg.match(word) else False\n",
    "\n",
    "comp_freq = list(filter(lambda x: iskorean(x[0]) and x[1] > 0, compounds_test.items()))\n",
    "comp_freq = list(zip(*comp_freq))[0]\n",
    "print(len(comp_freq), '/', len(compounds_test))"
   ]
  },
  {
   "cell_type": "code",
   "execution_count": 68,
   "metadata": {},
   "outputs": [],
   "source": [
    "import pickle\n",
    "with open('/opt/ml/code/data/compounds_test.pickle', 'wb') as f:\n",
    "    pickle.dump(comp_freq, f, pickle.HIGHEST_PROTOCOL)"
   ]
  },
  {
   "cell_type": "code",
   "execution_count": 69,
   "metadata": {},
   "outputs": [
    {
     "data": {
      "text/plain": [
       "('짓시티계획안',\n",
       " '루돌',\n",
       " '전주도달산',\n",
       " '철툇자루',\n",
       " '개편안',\n",
       " '전상대학교',\n",
       " '디피에트로',\n",
       " '공로장',\n",
       " '축구대표팀',\n",
       " '감독직',\n",
       " '쌀가게배달원',\n",
       " '대표팀훈련',\n",
       " '국가대표팀훈련',\n",
       " '전진실위원회이후',\n",
       " '창아래',\n",
       " '귀상태',\n",
       " '왕설',\n",
       " '꿈속',\n",
       " '저고리밑',\n",
       " '진화압',\n",
       " '튀폰',\n",
       " '극설',\n",
       " '차원상자속입자',\n",
       " '속입자문제',\n",
       " '상자속입자문제',\n",
       " '강전투',\n",
       " '키프리',\n",
       " '국부제거술',\n",
       " '시나이산',\n",
       " '소속팀',\n",
       " '헌법소장직',\n",
       " '청백당',\n",
       " '선열차',\n",
       " '소더스트롬',\n",
       " '코미트',\n",
       " '당선전',\n",
       " '합동조사반',\n",
       " '씨종가',\n",
       " '당나라왕',\n",
       " '섬정부',\n",
       " '지시내리기전',\n",
       " '로마제국황제관',\n",
       " '제국황제관',\n",
       " '종교개혁전',\n",
       " '경상좌도수군절도사영',\n",
       " '좌도수군절도사영',\n",
       " '차사건',\n",
       " '테로스',\n",
       " '맥더프',\n",
       " '돈후안호세',\n",
       " '베마의스승',\n",
       " '홉베마의스승',\n",
       " '세비키',\n",
       " '시장직',\n",
       " '좌운검',\n",
       " '골트이후',\n",
       " '급수대',\n",
       " '어버이새',\n",
       " '트푀',\n",
       " '쇼자마',\n",
       " '방패막',\n",
       " '탑사이',\n",
       " '리파리섬',\n",
       " '이전병',\n",
       " '스쿨조사관',\n",
       " '서머힐스쿨조사관',\n",
       " '중북부지방',\n",
       " '전면퇴칸',\n",
       " '암목조관음보살좌상',\n",
       " '악기옆',\n",
       " '곤충명')"
      ]
     },
     "execution_count": 69,
     "metadata": {},
     "output_type": "execute_result"
    }
   ],
   "source": [
    "comp_freq"
   ]
  },
  {
   "cell_type": "code",
   "execution_count": null,
   "metadata": {
    "id": "cHq1I6fXk_zM"
   },
   "outputs": [],
   "source": []
  }
 ],
 "metadata": {
  "accelerator": "GPU",
  "colab": {
   "collapsed_sections": [],
   "machine_shape": "hm",
   "name": "compound+BM25.ipynb",
   "provenance": []
  },
  "kernelspec": {
   "display_name": "Python 3",
   "language": "python",
   "name": "python3"
  },
  "widgets": {
   "application/vnd.jupyter.widget-state+json": {
    "18f4589d810e47a9be171748c3a771f2": {
     "model_module": "@jupyter-widgets/controls",
     "model_name": "HBoxModel",
     "state": {
      "_dom_classes": [],
      "_model_module": "@jupyter-widgets/controls",
      "_model_module_version": "1.5.0",
      "_model_name": "HBoxModel",
      "_view_count": null,
      "_view_module": "@jupyter-widgets/controls",
      "_view_module_version": "1.5.0",
      "_view_name": "HBoxView",
      "box_style": "",
      "children": [
       "IPY_MODEL_7d50d27887754618b9f9a773b6f95ca3",
       "IPY_MODEL_4858712493ae420db1eb6257b1efdc0f"
      ],
      "layout": "IPY_MODEL_bb22789145fc4a1db176b98bdb8e0e57"
     }
    },
    "1eaac3bc70ed47b7a528eb79e5a2404e": {
     "model_module": "@jupyter-widgets/controls",
     "model_name": "HTMLModel",
     "state": {
      "_dom_classes": [],
      "_model_module": "@jupyter-widgets/controls",
      "_model_module_version": "1.5.0",
      "_model_name": "HTMLModel",
      "_view_count": null,
      "_view_module": "@jupyter-widgets/controls",
      "_view_module_version": "1.5.0",
      "_view_name": "HTMLView",
      "description": "",
      "description_tooltip": null,
      "layout": "IPY_MODEL_c687c14cb42f49e8aefa32b936e4bd18",
      "placeholder": "​",
      "style": "IPY_MODEL_8b5216b921ae49c7a888708771bee7ce",
      "value": " 4552/4552 [00:04&lt;00:00, 956.51it/s]"
     }
    },
    "293af407a02742b6813c41c924000b0a": {
     "model_module": "@jupyter-widgets/base",
     "model_name": "LayoutModel",
     "state": {
      "_model_module": "@jupyter-widgets/base",
      "_model_module_version": "1.2.0",
      "_model_name": "LayoutModel",
      "_view_count": null,
      "_view_module": "@jupyter-widgets/base",
      "_view_module_version": "1.2.0",
      "_view_name": "LayoutView",
      "align_content": null,
      "align_items": null,
      "align_self": null,
      "border": null,
      "bottom": null,
      "display": null,
      "flex": null,
      "flex_flow": null,
      "grid_area": null,
      "grid_auto_columns": null,
      "grid_auto_flow": null,
      "grid_auto_rows": null,
      "grid_column": null,
      "grid_gap": null,
      "grid_row": null,
      "grid_template_areas": null,
      "grid_template_columns": null,
      "grid_template_rows": null,
      "height": null,
      "justify_content": null,
      "justify_items": null,
      "left": null,
      "margin": null,
      "max_height": null,
      "max_width": null,
      "min_height": null,
      "min_width": null,
      "object_fit": null,
      "object_position": null,
      "order": null,
      "overflow": null,
      "overflow_x": null,
      "overflow_y": null,
      "padding": null,
      "right": null,
      "top": null,
      "visibility": null,
      "width": null
     }
    },
    "29c1501cfef748cca54f8b3759d6bd41": {
     "model_module": "@jupyter-widgets/controls",
     "model_name": "DescriptionStyleModel",
     "state": {
      "_model_module": "@jupyter-widgets/controls",
      "_model_module_version": "1.5.0",
      "_model_name": "DescriptionStyleModel",
      "_view_count": null,
      "_view_module": "@jupyter-widgets/base",
      "_view_module_version": "1.2.0",
      "_view_name": "StyleView",
      "description_width": ""
     }
    },
    "3225cbadd17a4fd7aa6d2d4d214e2160": {
     "model_module": "@jupyter-widgets/base",
     "model_name": "LayoutModel",
     "state": {
      "_model_module": "@jupyter-widgets/base",
      "_model_module_version": "1.2.0",
      "_model_name": "LayoutModel",
      "_view_count": null,
      "_view_module": "@jupyter-widgets/base",
      "_view_module_version": "1.2.0",
      "_view_name": "LayoutView",
      "align_content": null,
      "align_items": null,
      "align_self": null,
      "border": null,
      "bottom": null,
      "display": null,
      "flex": null,
      "flex_flow": null,
      "grid_area": null,
      "grid_auto_columns": null,
      "grid_auto_flow": null,
      "grid_auto_rows": null,
      "grid_column": null,
      "grid_gap": null,
      "grid_row": null,
      "grid_template_areas": null,
      "grid_template_columns": null,
      "grid_template_rows": null,
      "height": null,
      "justify_content": null,
      "justify_items": null,
      "left": null,
      "margin": null,
      "max_height": null,
      "max_width": null,
      "min_height": null,
      "min_width": null,
      "object_fit": null,
      "object_position": null,
      "order": null,
      "overflow": null,
      "overflow_x": null,
      "overflow_y": null,
      "padding": null,
      "right": null,
      "top": null,
      "visibility": null,
      "width": null
     }
    },
    "33be54718e2847aba276771547242246": {
     "model_module": "@jupyter-widgets/controls",
     "model_name": "ProgressStyleModel",
     "state": {
      "_model_module": "@jupyter-widgets/controls",
      "_model_module_version": "1.5.0",
      "_model_name": "ProgressStyleModel",
      "_view_count": null,
      "_view_module": "@jupyter-widgets/base",
      "_view_module_version": "1.2.0",
      "_view_name": "StyleView",
      "bar_color": null,
      "description_width": "initial"
     }
    },
    "3f2061e181c4426c8a3503f699299735": {
     "model_module": "@jupyter-widgets/base",
     "model_name": "LayoutModel",
     "state": {
      "_model_module": "@jupyter-widgets/base",
      "_model_module_version": "1.2.0",
      "_model_name": "LayoutModel",
      "_view_count": null,
      "_view_module": "@jupyter-widgets/base",
      "_view_module_version": "1.2.0",
      "_view_name": "LayoutView",
      "align_content": null,
      "align_items": null,
      "align_self": null,
      "border": null,
      "bottom": null,
      "display": null,
      "flex": null,
      "flex_flow": null,
      "grid_area": null,
      "grid_auto_columns": null,
      "grid_auto_flow": null,
      "grid_auto_rows": null,
      "grid_column": null,
      "grid_gap": null,
      "grid_row": null,
      "grid_template_areas": null,
      "grid_template_columns": null,
      "grid_template_rows": null,
      "height": null,
      "justify_content": null,
      "justify_items": null,
      "left": null,
      "margin": null,
      "max_height": null,
      "max_width": null,
      "min_height": null,
      "min_width": null,
      "object_fit": null,
      "object_position": null,
      "order": null,
      "overflow": null,
      "overflow_x": null,
      "overflow_y": null,
      "padding": null,
      "right": null,
      "top": null,
      "visibility": null,
      "width": null
     }
    },
    "41ab72a49fa148a3b7797faabb925583": {
     "model_module": "@jupyter-widgets/controls",
     "model_name": "FloatProgressModel",
     "state": {
      "_dom_classes": [],
      "_model_module": "@jupyter-widgets/controls",
      "_model_module_version": "1.5.0",
      "_model_name": "FloatProgressModel",
      "_view_count": null,
      "_view_module": "@jupyter-widgets/controls",
      "_view_module_version": "1.5.0",
      "_view_name": "ProgressView",
      "bar_style": "success",
      "description": "100%",
      "description_tooltip": null,
      "layout": "IPY_MODEL_4489d69ec59d41049da8325a562d502b",
      "max": 600,
      "min": 0,
      "orientation": "horizontal",
      "style": "IPY_MODEL_33be54718e2847aba276771547242246",
      "value": 600
     }
    },
    "4466b46cf5fb4a849dca8458d7d87151": {
     "model_module": "@jupyter-widgets/controls",
     "model_name": "HBoxModel",
     "state": {
      "_dom_classes": [],
      "_model_module": "@jupyter-widgets/controls",
      "_model_module_version": "1.5.0",
      "_model_name": "HBoxModel",
      "_view_count": null,
      "_view_module": "@jupyter-widgets/controls",
      "_view_module_version": "1.5.0",
      "_view_name": "HBoxView",
      "box_style": "",
      "children": [
       "IPY_MODEL_41ab72a49fa148a3b7797faabb925583",
       "IPY_MODEL_c0614bd00b174625a45c6fcd714f567c"
      ],
      "layout": "IPY_MODEL_3225cbadd17a4fd7aa6d2d4d214e2160"
     }
    },
    "4489d69ec59d41049da8325a562d502b": {
     "model_module": "@jupyter-widgets/base",
     "model_name": "LayoutModel",
     "state": {
      "_model_module": "@jupyter-widgets/base",
      "_model_module_version": "1.2.0",
      "_model_name": "LayoutModel",
      "_view_count": null,
      "_view_module": "@jupyter-widgets/base",
      "_view_module_version": "1.2.0",
      "_view_name": "LayoutView",
      "align_content": null,
      "align_items": null,
      "align_self": null,
      "border": null,
      "bottom": null,
      "display": null,
      "flex": null,
      "flex_flow": null,
      "grid_area": null,
      "grid_auto_columns": null,
      "grid_auto_flow": null,
      "grid_auto_rows": null,
      "grid_column": null,
      "grid_gap": null,
      "grid_row": null,
      "grid_template_areas": null,
      "grid_template_columns": null,
      "grid_template_rows": null,
      "height": null,
      "justify_content": null,
      "justify_items": null,
      "left": null,
      "margin": null,
      "max_height": null,
      "max_width": null,
      "min_height": null,
      "min_width": null,
      "object_fit": null,
      "object_position": null,
      "order": null,
      "overflow": null,
      "overflow_x": null,
      "overflow_y": null,
      "padding": null,
      "right": null,
      "top": null,
      "visibility": null,
      "width": null
     }
    },
    "4858712493ae420db1eb6257b1efdc0f": {
     "model_module": "@jupyter-widgets/controls",
     "model_name": "HTMLModel",
     "state": {
      "_dom_classes": [],
      "_model_module": "@jupyter-widgets/controls",
      "_model_module_version": "1.5.0",
      "_model_name": "HTMLModel",
      "_view_count": null,
      "_view_module": "@jupyter-widgets/controls",
      "_view_module_version": "1.5.0",
      "_view_name": "HTMLView",
      "description": "",
      "description_tooltip": null,
      "layout": "IPY_MODEL_aae4869e10c14ddcae221806d048b409",
      "placeholder": "​",
      "style": "IPY_MODEL_80a3a18280e44c2490ef248f130ea8cf",
      "value": " 3952/3952 [33:55&lt;00:00,  1.94it/s]"
     }
    },
    "596094df8ac84f8c97255e6dfd8766c1": {
     "model_module": "@jupyter-widgets/controls",
     "model_name": "FloatProgressModel",
     "state": {
      "_dom_classes": [],
      "_model_module": "@jupyter-widgets/controls",
      "_model_module_version": "1.5.0",
      "_model_name": "FloatProgressModel",
      "_view_count": null,
      "_view_module": "@jupyter-widgets/controls",
      "_view_module_version": "1.5.0",
      "_view_name": "ProgressView",
      "bar_style": "success",
      "description": "100%",
      "description_tooltip": null,
      "layout": "IPY_MODEL_8418038255c746e09addae407fbe7371",
      "max": 4552,
      "min": 0,
      "orientation": "horizontal",
      "style": "IPY_MODEL_6f727ad2695c42e5b210d686b0aa9388",
      "value": 4552
     }
    },
    "5e5e7b70e2844710b25b4f9b854721dc": {
     "model_module": "@jupyter-widgets/controls",
     "model_name": "HBoxModel",
     "state": {
      "_dom_classes": [],
      "_model_module": "@jupyter-widgets/controls",
      "_model_module_version": "1.5.0",
      "_model_name": "HBoxModel",
      "_view_count": null,
      "_view_module": "@jupyter-widgets/controls",
      "_view_module_version": "1.5.0",
      "_view_name": "HBoxView",
      "box_style": "",
      "children": [
       "IPY_MODEL_596094df8ac84f8c97255e6dfd8766c1",
       "IPY_MODEL_1eaac3bc70ed47b7a528eb79e5a2404e"
      ],
      "layout": "IPY_MODEL_c099180e6a4e4f8fbec5ea0f6abd5fdf"
     }
    },
    "6f727ad2695c42e5b210d686b0aa9388": {
     "model_module": "@jupyter-widgets/controls",
     "model_name": "ProgressStyleModel",
     "state": {
      "_model_module": "@jupyter-widgets/controls",
      "_model_module_version": "1.5.0",
      "_model_name": "ProgressStyleModel",
      "_view_count": null,
      "_view_module": "@jupyter-widgets/base",
      "_view_module_version": "1.2.0",
      "_view_name": "StyleView",
      "bar_color": null,
      "description_width": "initial"
     }
    },
    "7d50d27887754618b9f9a773b6f95ca3": {
     "model_module": "@jupyter-widgets/controls",
     "model_name": "FloatProgressModel",
     "state": {
      "_dom_classes": [],
      "_model_module": "@jupyter-widgets/controls",
      "_model_module_version": "1.5.0",
      "_model_name": "FloatProgressModel",
      "_view_count": null,
      "_view_module": "@jupyter-widgets/controls",
      "_view_module_version": "1.5.0",
      "_view_name": "ProgressView",
      "bar_style": "success",
      "description": "100%",
      "description_tooltip": null,
      "layout": "IPY_MODEL_293af407a02742b6813c41c924000b0a",
      "max": 3952,
      "min": 0,
      "orientation": "horizontal",
      "style": "IPY_MODEL_df2cffb1f20a47edab49b7fb858b7376",
      "value": 3952
     }
    },
    "80a3a18280e44c2490ef248f130ea8cf": {
     "model_module": "@jupyter-widgets/controls",
     "model_name": "DescriptionStyleModel",
     "state": {
      "_model_module": "@jupyter-widgets/controls",
      "_model_module_version": "1.5.0",
      "_model_name": "DescriptionStyleModel",
      "_view_count": null,
      "_view_module": "@jupyter-widgets/base",
      "_view_module_version": "1.2.0",
      "_view_name": "StyleView",
      "description_width": ""
     }
    },
    "8418038255c746e09addae407fbe7371": {
     "model_module": "@jupyter-widgets/base",
     "model_name": "LayoutModel",
     "state": {
      "_model_module": "@jupyter-widgets/base",
      "_model_module_version": "1.2.0",
      "_model_name": "LayoutModel",
      "_view_count": null,
      "_view_module": "@jupyter-widgets/base",
      "_view_module_version": "1.2.0",
      "_view_name": "LayoutView",
      "align_content": null,
      "align_items": null,
      "align_self": null,
      "border": null,
      "bottom": null,
      "display": null,
      "flex": null,
      "flex_flow": null,
      "grid_area": null,
      "grid_auto_columns": null,
      "grid_auto_flow": null,
      "grid_auto_rows": null,
      "grid_column": null,
      "grid_gap": null,
      "grid_row": null,
      "grid_template_areas": null,
      "grid_template_columns": null,
      "grid_template_rows": null,
      "height": null,
      "justify_content": null,
      "justify_items": null,
      "left": null,
      "margin": null,
      "max_height": null,
      "max_width": null,
      "min_height": null,
      "min_width": null,
      "object_fit": null,
      "object_position": null,
      "order": null,
      "overflow": null,
      "overflow_x": null,
      "overflow_y": null,
      "padding": null,
      "right": null,
      "top": null,
      "visibility": null,
      "width": null
     }
    },
    "8b5216b921ae49c7a888708771bee7ce": {
     "model_module": "@jupyter-widgets/controls",
     "model_name": "DescriptionStyleModel",
     "state": {
      "_model_module": "@jupyter-widgets/controls",
      "_model_module_version": "1.5.0",
      "_model_name": "DescriptionStyleModel",
      "_view_count": null,
      "_view_module": "@jupyter-widgets/base",
      "_view_module_version": "1.2.0",
      "_view_name": "StyleView",
      "description_width": ""
     }
    },
    "aae4869e10c14ddcae221806d048b409": {
     "model_module": "@jupyter-widgets/base",
     "model_name": "LayoutModel",
     "state": {
      "_model_module": "@jupyter-widgets/base",
      "_model_module_version": "1.2.0",
      "_model_name": "LayoutModel",
      "_view_count": null,
      "_view_module": "@jupyter-widgets/base",
      "_view_module_version": "1.2.0",
      "_view_name": "LayoutView",
      "align_content": null,
      "align_items": null,
      "align_self": null,
      "border": null,
      "bottom": null,
      "display": null,
      "flex": null,
      "flex_flow": null,
      "grid_area": null,
      "grid_auto_columns": null,
      "grid_auto_flow": null,
      "grid_auto_rows": null,
      "grid_column": null,
      "grid_gap": null,
      "grid_row": null,
      "grid_template_areas": null,
      "grid_template_columns": null,
      "grid_template_rows": null,
      "height": null,
      "justify_content": null,
      "justify_items": null,
      "left": null,
      "margin": null,
      "max_height": null,
      "max_width": null,
      "min_height": null,
      "min_width": null,
      "object_fit": null,
      "object_position": null,
      "order": null,
      "overflow": null,
      "overflow_x": null,
      "overflow_y": null,
      "padding": null,
      "right": null,
      "top": null,
      "visibility": null,
      "width": null
     }
    },
    "bb22789145fc4a1db176b98bdb8e0e57": {
     "model_module": "@jupyter-widgets/base",
     "model_name": "LayoutModel",
     "state": {
      "_model_module": "@jupyter-widgets/base",
      "_model_module_version": "1.2.0",
      "_model_name": "LayoutModel",
      "_view_count": null,
      "_view_module": "@jupyter-widgets/base",
      "_view_module_version": "1.2.0",
      "_view_name": "LayoutView",
      "align_content": null,
      "align_items": null,
      "align_self": null,
      "border": null,
      "bottom": null,
      "display": null,
      "flex": null,
      "flex_flow": null,
      "grid_area": null,
      "grid_auto_columns": null,
      "grid_auto_flow": null,
      "grid_auto_rows": null,
      "grid_column": null,
      "grid_gap": null,
      "grid_row": null,
      "grid_template_areas": null,
      "grid_template_columns": null,
      "grid_template_rows": null,
      "height": null,
      "justify_content": null,
      "justify_items": null,
      "left": null,
      "margin": null,
      "max_height": null,
      "max_width": null,
      "min_height": null,
      "min_width": null,
      "object_fit": null,
      "object_position": null,
      "order": null,
      "overflow": null,
      "overflow_x": null,
      "overflow_y": null,
      "padding": null,
      "right": null,
      "top": null,
      "visibility": null,
      "width": null
     }
    },
    "c0614bd00b174625a45c6fcd714f567c": {
     "model_module": "@jupyter-widgets/controls",
     "model_name": "HTMLModel",
     "state": {
      "_dom_classes": [],
      "_model_module": "@jupyter-widgets/controls",
      "_model_module_version": "1.5.0",
      "_model_name": "HTMLModel",
      "_view_count": null,
      "_view_module": "@jupyter-widgets/controls",
      "_view_module_version": "1.5.0",
      "_view_name": "HTMLView",
      "description": "",
      "description_tooltip": null,
      "layout": "IPY_MODEL_3f2061e181c4426c8a3503f699299735",
      "placeholder": "​",
      "style": "IPY_MODEL_29c1501cfef748cca54f8b3759d6bd41",
      "value": " 600/600 [04:33&lt;00:00,  2.19it/s]"
     }
    },
    "c099180e6a4e4f8fbec5ea0f6abd5fdf": {
     "model_module": "@jupyter-widgets/base",
     "model_name": "LayoutModel",
     "state": {
      "_model_module": "@jupyter-widgets/base",
      "_model_module_version": "1.2.0",
      "_model_name": "LayoutModel",
      "_view_count": null,
      "_view_module": "@jupyter-widgets/base",
      "_view_module_version": "1.2.0",
      "_view_name": "LayoutView",
      "align_content": null,
      "align_items": null,
      "align_self": null,
      "border": null,
      "bottom": null,
      "display": null,
      "flex": null,
      "flex_flow": null,
      "grid_area": null,
      "grid_auto_columns": null,
      "grid_auto_flow": null,
      "grid_auto_rows": null,
      "grid_column": null,
      "grid_gap": null,
      "grid_row": null,
      "grid_template_areas": null,
      "grid_template_columns": null,
      "grid_template_rows": null,
      "height": null,
      "justify_content": null,
      "justify_items": null,
      "left": null,
      "margin": null,
      "max_height": null,
      "max_width": null,
      "min_height": null,
      "min_width": null,
      "object_fit": null,
      "object_position": null,
      "order": null,
      "overflow": null,
      "overflow_x": null,
      "overflow_y": null,
      "padding": null,
      "right": null,
      "top": null,
      "visibility": null,
      "width": null
     }
    },
    "c687c14cb42f49e8aefa32b936e4bd18": {
     "model_module": "@jupyter-widgets/base",
     "model_name": "LayoutModel",
     "state": {
      "_model_module": "@jupyter-widgets/base",
      "_model_module_version": "1.2.0",
      "_model_name": "LayoutModel",
      "_view_count": null,
      "_view_module": "@jupyter-widgets/base",
      "_view_module_version": "1.2.0",
      "_view_name": "LayoutView",
      "align_content": null,
      "align_items": null,
      "align_self": null,
      "border": null,
      "bottom": null,
      "display": null,
      "flex": null,
      "flex_flow": null,
      "grid_area": null,
      "grid_auto_columns": null,
      "grid_auto_flow": null,
      "grid_auto_rows": null,
      "grid_column": null,
      "grid_gap": null,
      "grid_row": null,
      "grid_template_areas": null,
      "grid_template_columns": null,
      "grid_template_rows": null,
      "height": null,
      "justify_content": null,
      "justify_items": null,
      "left": null,
      "margin": null,
      "max_height": null,
      "max_width": null,
      "min_height": null,
      "min_width": null,
      "object_fit": null,
      "object_position": null,
      "order": null,
      "overflow": null,
      "overflow_x": null,
      "overflow_y": null,
      "padding": null,
      "right": null,
      "top": null,
      "visibility": null,
      "width": null
     }
    },
    "df2cffb1f20a47edab49b7fb858b7376": {
     "model_module": "@jupyter-widgets/controls",
     "model_name": "ProgressStyleModel",
     "state": {
      "_model_module": "@jupyter-widgets/controls",
      "_model_module_version": "1.5.0",
      "_model_name": "ProgressStyleModel",
      "_view_count": null,
      "_view_module": "@jupyter-widgets/base",
      "_view_module_version": "1.2.0",
      "_view_name": "StyleView",
      "bar_color": null,
      "description_width": "initial"
     }
    }
   }
  }
 },
 "nbformat": 4,
 "nbformat_minor": 4
}