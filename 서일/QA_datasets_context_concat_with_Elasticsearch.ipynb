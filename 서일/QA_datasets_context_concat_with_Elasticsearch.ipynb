{
  "nbformat": 4,
  "nbformat_minor": 0,
  "metadata": {
    "colab": {
      "name": "QA_datasets_context_concat_with_Elasticsearch",
      "provenance": [],
      "collapsed_sections": []
    },
    "kernelspec": {
      "name": "python3",
      "display_name": "Python 3"
    },
    "language_info": {
      "name": "python"
    },
    "widgets": {
      "application/vnd.jupyter.widget-state+json": {
        "b8eef70ae030425a936383917434bebe": {
          "model_module": "@jupyter-widgets/controls",
          "model_name": "HBoxModel",
          "state": {
            "_view_name": "HBoxView",
            "_dom_classes": [],
            "_model_name": "HBoxModel",
            "_view_module": "@jupyter-widgets/controls",
            "_model_module_version": "1.5.0",
            "_view_count": null,
            "_view_module_version": "1.5.0",
            "box_style": "",
            "layout": "IPY_MODEL_14a044c41b0a4c59a7fefbd2fe1fd282",
            "_model_module": "@jupyter-widgets/controls",
            "children": [
              "IPY_MODEL_83f274885a8349a1b154a26e02f33dd2",
              "IPY_MODEL_f2d97a637a03455aa9aec8d5f80c6f56"
            ]
          }
        },
        "14a044c41b0a4c59a7fefbd2fe1fd282": {
          "model_module": "@jupyter-widgets/base",
          "model_name": "LayoutModel",
          "state": {
            "_view_name": "LayoutView",
            "grid_template_rows": null,
            "right": null,
            "justify_content": null,
            "_view_module": "@jupyter-widgets/base",
            "overflow": null,
            "_model_module_version": "1.2.0",
            "_view_count": null,
            "flex_flow": null,
            "width": null,
            "min_width": null,
            "border": null,
            "align_items": null,
            "bottom": null,
            "_model_module": "@jupyter-widgets/base",
            "top": null,
            "grid_column": null,
            "overflow_y": null,
            "overflow_x": null,
            "grid_auto_flow": null,
            "grid_area": null,
            "grid_template_columns": null,
            "flex": null,
            "_model_name": "LayoutModel",
            "justify_items": null,
            "grid_row": null,
            "max_height": null,
            "align_content": null,
            "visibility": null,
            "align_self": null,
            "height": null,
            "min_height": null,
            "padding": null,
            "grid_auto_rows": null,
            "grid_gap": null,
            "max_width": null,
            "order": null,
            "_view_module_version": "1.2.0",
            "grid_template_areas": null,
            "object_position": null,
            "object_fit": null,
            "grid_auto_columns": null,
            "margin": null,
            "display": null,
            "left": null
          }
        },
        "83f274885a8349a1b154a26e02f33dd2": {
          "model_module": "@jupyter-widgets/controls",
          "model_name": "FloatProgressModel",
          "state": {
            "_view_name": "ProgressView",
            "style": "IPY_MODEL_c8a5de49c3784c81bd747bdeedd66750",
            "_dom_classes": [],
            "description": "100%",
            "_model_name": "FloatProgressModel",
            "bar_style": "success",
            "max": 66835,
            "_view_module": "@jupyter-widgets/controls",
            "_model_module_version": "1.5.0",
            "value": 66835,
            "_view_count": null,
            "_view_module_version": "1.5.0",
            "orientation": "horizontal",
            "min": 0,
            "description_tooltip": null,
            "_model_module": "@jupyter-widgets/controls",
            "layout": "IPY_MODEL_deb82abe28764792a571d0f65db5fe78"
          }
        },
        "f2d97a637a03455aa9aec8d5f80c6f56": {
          "model_module": "@jupyter-widgets/controls",
          "model_name": "HTMLModel",
          "state": {
            "_view_name": "HTMLView",
            "style": "IPY_MODEL_e567d1f9f31f4fd3a2402c678f9ddfaa",
            "_dom_classes": [],
            "description": "",
            "_model_name": "HTMLModel",
            "placeholder": "​",
            "_view_module": "@jupyter-widgets/controls",
            "_model_module_version": "1.5.0",
            "value": " 66835/66835 [1:15:58&lt;00:00, 14.66ex/s]",
            "_view_count": null,
            "_view_module_version": "1.5.0",
            "description_tooltip": null,
            "_model_module": "@jupyter-widgets/controls",
            "layout": "IPY_MODEL_d8865c043c2d4ac1a5e6139d72106c14"
          }
        },
        "c8a5de49c3784c81bd747bdeedd66750": {
          "model_module": "@jupyter-widgets/controls",
          "model_name": "ProgressStyleModel",
          "state": {
            "_view_name": "StyleView",
            "_model_name": "ProgressStyleModel",
            "description_width": "initial",
            "_view_module": "@jupyter-widgets/base",
            "_model_module_version": "1.5.0",
            "_view_count": null,
            "_view_module_version": "1.2.0",
            "bar_color": null,
            "_model_module": "@jupyter-widgets/controls"
          }
        },
        "deb82abe28764792a571d0f65db5fe78": {
          "model_module": "@jupyter-widgets/base",
          "model_name": "LayoutModel",
          "state": {
            "_view_name": "LayoutView",
            "grid_template_rows": null,
            "right": null,
            "justify_content": null,
            "_view_module": "@jupyter-widgets/base",
            "overflow": null,
            "_model_module_version": "1.2.0",
            "_view_count": null,
            "flex_flow": null,
            "width": null,
            "min_width": null,
            "border": null,
            "align_items": null,
            "bottom": null,
            "_model_module": "@jupyter-widgets/base",
            "top": null,
            "grid_column": null,
            "overflow_y": null,
            "overflow_x": null,
            "grid_auto_flow": null,
            "grid_area": null,
            "grid_template_columns": null,
            "flex": null,
            "_model_name": "LayoutModel",
            "justify_items": null,
            "grid_row": null,
            "max_height": null,
            "align_content": null,
            "visibility": null,
            "align_self": null,
            "height": null,
            "min_height": null,
            "padding": null,
            "grid_auto_rows": null,
            "grid_gap": null,
            "max_width": null,
            "order": null,
            "_view_module_version": "1.2.0",
            "grid_template_areas": null,
            "object_position": null,
            "object_fit": null,
            "grid_auto_columns": null,
            "margin": null,
            "display": null,
            "left": null
          }
        },
        "e567d1f9f31f4fd3a2402c678f9ddfaa": {
          "model_module": "@jupyter-widgets/controls",
          "model_name": "DescriptionStyleModel",
          "state": {
            "_view_name": "StyleView",
            "_model_name": "DescriptionStyleModel",
            "description_width": "",
            "_view_module": "@jupyter-widgets/base",
            "_model_module_version": "1.5.0",
            "_view_count": null,
            "_view_module_version": "1.2.0",
            "_model_module": "@jupyter-widgets/controls"
          }
        },
        "d8865c043c2d4ac1a5e6139d72106c14": {
          "model_module": "@jupyter-widgets/base",
          "model_name": "LayoutModel",
          "state": {
            "_view_name": "LayoutView",
            "grid_template_rows": null,
            "right": null,
            "justify_content": null,
            "_view_module": "@jupyter-widgets/base",
            "overflow": null,
            "_model_module_version": "1.2.0",
            "_view_count": null,
            "flex_flow": null,
            "width": null,
            "min_width": null,
            "border": null,
            "align_items": null,
            "bottom": null,
            "_model_module": "@jupyter-widgets/base",
            "top": null,
            "grid_column": null,
            "overflow_y": null,
            "overflow_x": null,
            "grid_auto_flow": null,
            "grid_area": null,
            "grid_template_columns": null,
            "flex": null,
            "_model_name": "LayoutModel",
            "justify_items": null,
            "grid_row": null,
            "max_height": null,
            "align_content": null,
            "visibility": null,
            "align_self": null,
            "height": null,
            "min_height": null,
            "padding": null,
            "grid_auto_rows": null,
            "grid_gap": null,
            "max_width": null,
            "order": null,
            "_view_module_version": "1.2.0",
            "grid_template_areas": null,
            "object_position": null,
            "object_fit": null,
            "grid_auto_columns": null,
            "margin": null,
            "display": null,
            "left": null
          }
        },
        "77c9976d38044ca6a654c1efb55452b9": {
          "model_module": "@jupyter-widgets/controls",
          "model_name": "HBoxModel",
          "state": {
            "_view_name": "HBoxView",
            "_dom_classes": [],
            "_model_name": "HBoxModel",
            "_view_module": "@jupyter-widgets/controls",
            "_model_module_version": "1.5.0",
            "_view_count": null,
            "_view_module_version": "1.5.0",
            "box_style": "",
            "layout": "IPY_MODEL_1c09cd1138c5405e91ad05bda159d585",
            "_model_module": "@jupyter-widgets/controls",
            "children": [
              "IPY_MODEL_2cd8b693c1b247478134793483f619f3",
              "IPY_MODEL_945d28af0e174f49b80de420cc6d1b4e"
            ]
          }
        },
        "1c09cd1138c5405e91ad05bda159d585": {
          "model_module": "@jupyter-widgets/base",
          "model_name": "LayoutModel",
          "state": {
            "_view_name": "LayoutView",
            "grid_template_rows": null,
            "right": null,
            "justify_content": null,
            "_view_module": "@jupyter-widgets/base",
            "overflow": null,
            "_model_module_version": "1.2.0",
            "_view_count": null,
            "flex_flow": null,
            "width": null,
            "min_width": null,
            "border": null,
            "align_items": null,
            "bottom": null,
            "_model_module": "@jupyter-widgets/base",
            "top": null,
            "grid_column": null,
            "overflow_y": null,
            "overflow_x": null,
            "grid_auto_flow": null,
            "grid_area": null,
            "grid_template_columns": null,
            "flex": null,
            "_model_name": "LayoutModel",
            "justify_items": null,
            "grid_row": null,
            "max_height": null,
            "align_content": null,
            "visibility": null,
            "align_self": null,
            "height": null,
            "min_height": null,
            "padding": null,
            "grid_auto_rows": null,
            "grid_gap": null,
            "max_width": null,
            "order": null,
            "_view_module_version": "1.2.0",
            "grid_template_areas": null,
            "object_position": null,
            "object_fit": null,
            "grid_auto_columns": null,
            "margin": null,
            "display": null,
            "left": null
          }
        },
        "2cd8b693c1b247478134793483f619f3": {
          "model_module": "@jupyter-widgets/controls",
          "model_name": "FloatProgressModel",
          "state": {
            "_view_name": "ProgressView",
            "style": "IPY_MODEL_026139010f334084becadca9cc355947",
            "_dom_classes": [],
            "description": "100%",
            "_model_name": "FloatProgressModel",
            "bar_style": "success",
            "max": 131554,
            "_view_module": "@jupyter-widgets/controls",
            "_model_module_version": "1.5.0",
            "value": 131554,
            "_view_count": null,
            "_view_module_version": "1.5.0",
            "orientation": "horizontal",
            "min": 0,
            "description_tooltip": null,
            "_model_module": "@jupyter-widgets/controls",
            "layout": "IPY_MODEL_d2aed69cafac4162ac49838685855b0a"
          }
        },
        "945d28af0e174f49b80de420cc6d1b4e": {
          "model_module": "@jupyter-widgets/controls",
          "model_name": "HTMLModel",
          "state": {
            "_view_name": "HTMLView",
            "style": "IPY_MODEL_1f1cb18ecd9e4a919d12f4079bb963ef",
            "_dom_classes": [],
            "description": "",
            "_model_name": "HTMLModel",
            "placeholder": "​",
            "_view_module": "@jupyter-widgets/controls",
            "_model_module_version": "1.5.0",
            "value": " 131554/131554 [2:05:23&lt;00:00, 17.49ex/s]",
            "_view_count": null,
            "_view_module_version": "1.5.0",
            "description_tooltip": null,
            "_model_module": "@jupyter-widgets/controls",
            "layout": "IPY_MODEL_c343c18d694743d895f1092cf9b69256"
          }
        },
        "026139010f334084becadca9cc355947": {
          "model_module": "@jupyter-widgets/controls",
          "model_name": "ProgressStyleModel",
          "state": {
            "_view_name": "StyleView",
            "_model_name": "ProgressStyleModel",
            "description_width": "initial",
            "_view_module": "@jupyter-widgets/base",
            "_model_module_version": "1.5.0",
            "_view_count": null,
            "_view_module_version": "1.2.0",
            "bar_color": null,
            "_model_module": "@jupyter-widgets/controls"
          }
        },
        "d2aed69cafac4162ac49838685855b0a": {
          "model_module": "@jupyter-widgets/base",
          "model_name": "LayoutModel",
          "state": {
            "_view_name": "LayoutView",
            "grid_template_rows": null,
            "right": null,
            "justify_content": null,
            "_view_module": "@jupyter-widgets/base",
            "overflow": null,
            "_model_module_version": "1.2.0",
            "_view_count": null,
            "flex_flow": null,
            "width": null,
            "min_width": null,
            "border": null,
            "align_items": null,
            "bottom": null,
            "_model_module": "@jupyter-widgets/base",
            "top": null,
            "grid_column": null,
            "overflow_y": null,
            "overflow_x": null,
            "grid_auto_flow": null,
            "grid_area": null,
            "grid_template_columns": null,
            "flex": null,
            "_model_name": "LayoutModel",
            "justify_items": null,
            "grid_row": null,
            "max_height": null,
            "align_content": null,
            "visibility": null,
            "align_self": null,
            "height": null,
            "min_height": null,
            "padding": null,
            "grid_auto_rows": null,
            "grid_gap": null,
            "max_width": null,
            "order": null,
            "_view_module_version": "1.2.0",
            "grid_template_areas": null,
            "object_position": null,
            "object_fit": null,
            "grid_auto_columns": null,
            "margin": null,
            "display": null,
            "left": null
          }
        },
        "1f1cb18ecd9e4a919d12f4079bb963ef": {
          "model_module": "@jupyter-widgets/controls",
          "model_name": "DescriptionStyleModel",
          "state": {
            "_view_name": "StyleView",
            "_model_name": "DescriptionStyleModel",
            "description_width": "",
            "_view_module": "@jupyter-widgets/base",
            "_model_module_version": "1.5.0",
            "_view_count": null,
            "_view_module_version": "1.2.0",
            "_model_module": "@jupyter-widgets/controls"
          }
        },
        "c343c18d694743d895f1092cf9b69256": {
          "model_module": "@jupyter-widgets/base",
          "model_name": "LayoutModel",
          "state": {
            "_view_name": "LayoutView",
            "grid_template_rows": null,
            "right": null,
            "justify_content": null,
            "_view_module": "@jupyter-widgets/base",
            "overflow": null,
            "_model_module_version": "1.2.0",
            "_view_count": null,
            "flex_flow": null,
            "width": null,
            "min_width": null,
            "border": null,
            "align_items": null,
            "bottom": null,
            "_model_module": "@jupyter-widgets/base",
            "top": null,
            "grid_column": null,
            "overflow_y": null,
            "overflow_x": null,
            "grid_auto_flow": null,
            "grid_area": null,
            "grid_template_columns": null,
            "flex": null,
            "_model_name": "LayoutModel",
            "justify_items": null,
            "grid_row": null,
            "max_height": null,
            "align_content": null,
            "visibility": null,
            "align_self": null,
            "height": null,
            "min_height": null,
            "padding": null,
            "grid_auto_rows": null,
            "grid_gap": null,
            "max_width": null,
            "order": null,
            "_view_module_version": "1.2.0",
            "grid_template_areas": null,
            "object_position": null,
            "object_fit": null,
            "grid_auto_columns": null,
            "margin": null,
            "display": null,
            "left": null
          }
        }
      }
    },
    "accelerator": "GPU"
  },
  "cells": [
    {
      "cell_type": "markdown",
      "metadata": {
        "id": "xWEvmdU0IuSC"
      },
      "source": [
        "# 리트리버가 가져온 정답이 없는 문서를 MRC가 거를 수 있도록, 데이터를 제작하자.\n",
        "\n",
        "답이 없는 문서에 대해서, 좀 더 낮은 logit을 출력하는 것을 목표로 했습니다.\n",
        "\n",
        "리트리버가 가져온 문서들의 스코어 비교가 더 잘되게 하기 위함입니다.\n",
        "\n",
        "성능 향상 여부는 그때그때 달랐습니다. 너무 많은 샘플을 주면 수렴 자체가 어렵습니다.\n",
        "\n",
        "---\n",
        "\n",
        "\n",
        "\n",
        "엘라스틱서치의 설정에 따라 다른 문서를 가져올 수 있습니다.\n",
        "\n",
        "본 설정은, 김남혁 캠퍼님께 받았던 설정을 기반으로 합니다."
      ]
    },
    {
      "cell_type": "markdown",
      "metadata": {
        "id": "_gcIr5YtJDQI"
      },
      "source": [
        "## 참고자료"
      ]
    },
    {
      "cell_type": "markdown",
      "metadata": {
        "id": "dXzfCRjYH6DR"
      },
      "source": [
        "http://boostcamp.stages.ai/competitions/31/discussion/post/314\n",
        "\n",
        "https://colab.research.google.com/github/neuml/txtai/blob/master/examples/04_Add_semantic_search_to_Elasticsearch.ipynb#scrollTo=0y1UA4-q-YdA"
      ]
    },
    {
      "cell_type": "markdown",
      "metadata": {
        "id": "yPUn5aaa9yV8"
      },
      "source": [
        "https://jvvp.tistory.com/1152\n",
        "\n",
        "https://m.blog.naver.com/PostView.nhn?blogId=slykid&logNo=221559872279&proxyReferer=https:%2F%2Fwww.google.com%2F"
      ]
    },
    {
      "cell_type": "code",
      "metadata": {
        "id": "UJ_a0fWX16QA",
        "colab": {
          "base_uri": "https://localhost:8080/"
        },
        "outputId": "09fd8684-fdf0-40a0-ed6a-10861b200c55"
      },
      "source": [
        "!pip install datasets==1.6.2\n",
        "!python -m pip install elasticsearch\n",
        "!wget https://artifacts.elastic.co/downloads/elasticsearch/elasticsearch-7.9.2-linux-x86_64.tar.gz -q\n",
        "!tar -xzf elasticsearch-7.9.2-linux-x86_64.tar.gz\n",
        "!chown -R daemon:daemon elasticsearch-7.9.2\n",
        "!pip install pororo"
      ],
      "execution_count": null,
      "outputs": [
        {
          "output_type": "stream",
          "text": [
            "Requirement already satisfied: datasets==1.6.2 in /usr/local/lib/python3.7/dist-packages (1.6.2)\n",
            "Requirement already satisfied: fsspec in /usr/local/lib/python3.7/dist-packages (from datasets==1.6.2) (2021.5.0)\n",
            "Requirement already satisfied: xxhash in /usr/local/lib/python3.7/dist-packages (from datasets==1.6.2) (2.0.2)\n",
            "Requirement already satisfied: tqdm<4.50.0,>=4.27 in /usr/local/lib/python3.7/dist-packages (from datasets==1.6.2) (4.41.1)\n",
            "Requirement already satisfied: multiprocess in /usr/local/lib/python3.7/dist-packages (from datasets==1.6.2) (0.70.11.1)\n",
            "Requirement already satisfied: dill in /usr/local/lib/python3.7/dist-packages (from datasets==1.6.2) (0.3.3)\n",
            "Requirement already satisfied: numpy>=1.17 in /usr/local/lib/python3.7/dist-packages (from datasets==1.6.2) (1.19.5)\n",
            "Requirement already satisfied: huggingface-hub<0.1.0 in /usr/local/lib/python3.7/dist-packages (from datasets==1.6.2) (0.0.8)\n",
            "Requirement already satisfied: importlib-metadata; python_version < \"3.8\" in /usr/local/lib/python3.7/dist-packages (from datasets==1.6.2) (4.0.1)\n",
            "Requirement already satisfied: pandas in /usr/local/lib/python3.7/dist-packages (from datasets==1.6.2) (1.1.5)\n",
            "Requirement already satisfied: requests>=2.19.0 in /usr/local/lib/python3.7/dist-packages (from datasets==1.6.2) (2.23.0)\n",
            "Requirement already satisfied: pyarrow>=1.0.0<4.0.0 in /usr/local/lib/python3.7/dist-packages (from datasets==1.6.2) (3.0.0)\n",
            "Requirement already satisfied: packaging in /usr/local/lib/python3.7/dist-packages (from datasets==1.6.2) (20.9)\n",
            "Requirement already satisfied: filelock in /usr/local/lib/python3.7/dist-packages (from huggingface-hub<0.1.0->datasets==1.6.2) (3.0.12)\n",
            "Requirement already satisfied: typing-extensions>=3.6.4; python_version < \"3.8\" in /usr/local/lib/python3.7/dist-packages (from importlib-metadata; python_version < \"3.8\"->datasets==1.6.2) (3.7.4.3)\n",
            "Requirement already satisfied: zipp>=0.5 in /usr/local/lib/python3.7/dist-packages (from importlib-metadata; python_version < \"3.8\"->datasets==1.6.2) (3.4.1)\n",
            "Requirement already satisfied: python-dateutil>=2.7.3 in /usr/local/lib/python3.7/dist-packages (from pandas->datasets==1.6.2) (2.8.1)\n",
            "Requirement already satisfied: pytz>=2017.2 in /usr/local/lib/python3.7/dist-packages (from pandas->datasets==1.6.2) (2018.9)\n",
            "Requirement already satisfied: certifi>=2017.4.17 in /usr/local/lib/python3.7/dist-packages (from requests>=2.19.0->datasets==1.6.2) (2020.12.5)\n",
            "Requirement already satisfied: chardet<4,>=3.0.2 in /usr/local/lib/python3.7/dist-packages (from requests>=2.19.0->datasets==1.6.2) (3.0.4)\n",
            "Requirement already satisfied: urllib3!=1.25.0,!=1.25.1,<1.26,>=1.21.1 in /usr/local/lib/python3.7/dist-packages (from requests>=2.19.0->datasets==1.6.2) (1.24.3)\n",
            "Requirement already satisfied: idna<3,>=2.5 in /usr/local/lib/python3.7/dist-packages (from requests>=2.19.0->datasets==1.6.2) (2.10)\n",
            "Requirement already satisfied: pyparsing>=2.0.2 in /usr/local/lib/python3.7/dist-packages (from packaging->datasets==1.6.2) (2.4.7)\n",
            "Requirement already satisfied: six>=1.5 in /usr/local/lib/python3.7/dist-packages (from python-dateutil>=2.7.3->pandas->datasets==1.6.2) (1.15.0)\n",
            "Requirement already satisfied: elasticsearch in /usr/local/lib/python3.7/dist-packages (7.12.1)\n",
            "Requirement already satisfied: certifi in /usr/local/lib/python3.7/dist-packages (from elasticsearch) (2020.12.5)\n",
            "Requirement already satisfied: urllib3<2,>=1.21.1 in /usr/local/lib/python3.7/dist-packages (from elasticsearch) (1.24.3)\n",
            "Requirement already satisfied: pororo in /usr/local/lib/python3.7/dist-packages (0.4.2)\n",
            "Requirement already satisfied: lxml in /usr/local/lib/python3.7/dist-packages (from pororo) (4.2.6)\n",
            "Requirement already satisfied: kss in /usr/local/lib/python3.7/dist-packages (from pororo) (2.5.0)\n",
            "Requirement already satisfied: fairseq>=0.10.2 in /usr/local/lib/python3.7/dist-packages (from pororo) (0.10.2)\n",
            "Requirement already satisfied: torchvision==0.7.0 in /usr/local/lib/python3.7/dist-packages (from pororo) (0.7.0)\n",
            "Requirement already satisfied: wget in /usr/local/lib/python3.7/dist-packages (from pororo) (3.2)\n",
            "Requirement already satisfied: g2p-en in /usr/local/lib/python3.7/dist-packages (from pororo) (2.1.0)\n",
            "Requirement already satisfied: nltk>=3.5 in /usr/local/lib/python3.7/dist-packages (from pororo) (3.6.2)\n",
            "Requirement already satisfied: word2word in /usr/local/lib/python3.7/dist-packages (from pororo) (1.0.0)\n",
            "Requirement already satisfied: whoosh in /usr/local/lib/python3.7/dist-packages (from pororo) (2.7.4)\n",
            "Requirement already satisfied: torch==1.6.0 in /usr/local/lib/python3.7/dist-packages (from pororo) (1.6.0)\n",
            "Requirement already satisfied: joblib in /usr/local/lib/python3.7/dist-packages (from pororo) (1.0.1)\n",
            "Requirement already satisfied: marisa-trie in /usr/local/lib/python3.7/dist-packages (from pororo) (0.7.5)\n",
            "Requirement already satisfied: transformers>=4.0.0 in /usr/local/lib/python3.7/dist-packages (from pororo) (4.6.0)\n",
            "Requirement already satisfied: pillow>=4.1.1 in /usr/local/lib/python3.7/dist-packages (from pororo) (7.1.2)\n",
            "Requirement already satisfied: sentence-transformers>=0.4.1.2 in /usr/local/lib/python3.7/dist-packages (from pororo) (1.1.1)\n",
            "Requirement already satisfied: cython in /usr/local/lib/python3.7/dist-packages (from fairseq>=0.10.2->pororo) (0.29.23)\n",
            "Requirement already satisfied: tqdm in /usr/local/lib/python3.7/dist-packages (from fairseq>=0.10.2->pororo) (4.41.1)\n",
            "Requirement already satisfied: sacrebleu>=1.4.12 in /usr/local/lib/python3.7/dist-packages (from fairseq>=0.10.2->pororo) (1.5.1)\n",
            "Requirement already satisfied: dataclasses in /usr/local/lib/python3.7/dist-packages (from fairseq>=0.10.2->pororo) (0.6)\n",
            "Requirement already satisfied: cffi in /usr/local/lib/python3.7/dist-packages (from fairseq>=0.10.2->pororo) (1.14.5)\n",
            "Requirement already satisfied: numpy in /usr/local/lib/python3.7/dist-packages (from fairseq>=0.10.2->pororo) (1.19.5)\n",
            "Requirement already satisfied: regex in /usr/local/lib/python3.7/dist-packages (from fairseq>=0.10.2->pororo) (2019.12.20)\n",
            "Requirement already satisfied: hydra-core in /usr/local/lib/python3.7/dist-packages (from fairseq>=0.10.2->pororo) (1.0.6)\n",
            "Requirement already satisfied: inflect>=0.3.1 in /usr/local/lib/python3.7/dist-packages (from g2p-en->pororo) (2.1.0)\n",
            "Requirement already satisfied: distance>=0.1.3 in /usr/local/lib/python3.7/dist-packages (from g2p-en->pororo) (0.1.3)\n",
            "Requirement already satisfied: click in /usr/local/lib/python3.7/dist-packages (from nltk>=3.5->pororo) (8.0.0)\n",
            "Requirement already satisfied: requests in /usr/local/lib/python3.7/dist-packages (from word2word->pororo) (2.23.0)\n",
            "Requirement already satisfied: future in /usr/local/lib/python3.7/dist-packages (from torch==1.6.0->pororo) (0.16.0)\n",
            "Requirement already satisfied: huggingface-hub==0.0.8 in /usr/local/lib/python3.7/dist-packages (from transformers>=4.0.0->pororo) (0.0.8)\n",
            "Requirement already satisfied: importlib-metadata; python_version < \"3.8\" in /usr/local/lib/python3.7/dist-packages (from transformers>=4.0.0->pororo) (4.0.1)\n",
            "Requirement already satisfied: sacremoses in /usr/local/lib/python3.7/dist-packages (from transformers>=4.0.0->pororo) (0.0.45)\n",
            "Requirement already satisfied: tokenizers<0.11,>=0.10.1 in /usr/local/lib/python3.7/dist-packages (from transformers>=4.0.0->pororo) (0.10.2)\n",
            "Requirement already satisfied: filelock in /usr/local/lib/python3.7/dist-packages (from transformers>=4.0.0->pororo) (3.0.12)\n",
            "Requirement already satisfied: packaging in /usr/local/lib/python3.7/dist-packages (from transformers>=4.0.0->pororo) (20.9)\n",
            "Requirement already satisfied: scikit-learn in /usr/local/lib/python3.7/dist-packages (from sentence-transformers>=0.4.1.2->pororo) (0.22.2.post1)\n",
            "Requirement already satisfied: scipy in /usr/local/lib/python3.7/dist-packages (from sentence-transformers>=0.4.1.2->pororo) (1.4.1)\n",
            "Requirement already satisfied: sentencepiece in /usr/local/lib/python3.7/dist-packages (from sentence-transformers>=0.4.1.2->pororo) (0.1.95)\n",
            "Requirement already satisfied: portalocker==2.0.0 in /usr/local/lib/python3.7/dist-packages (from sacrebleu>=1.4.12->fairseq>=0.10.2->pororo) (2.0.0)\n",
            "Requirement already satisfied: pycparser in /usr/local/lib/python3.7/dist-packages (from cffi->fairseq>=0.10.2->pororo) (2.20)\n",
            "Requirement already satisfied: omegaconf<2.1,>=2.0.5 in /usr/local/lib/python3.7/dist-packages (from hydra-core->fairseq>=0.10.2->pororo) (2.0.6)\n",
            "Requirement already satisfied: importlib-resources; python_version < \"3.9\" in /usr/local/lib/python3.7/dist-packages (from hydra-core->fairseq>=0.10.2->pororo) (5.1.2)\n",
            "Requirement already satisfied: antlr4-python3-runtime==4.8 in /usr/local/lib/python3.7/dist-packages (from hydra-core->fairseq>=0.10.2->pororo) (4.8)\n",
            "Requirement already satisfied: idna<3,>=2.5 in /usr/local/lib/python3.7/dist-packages (from requests->word2word->pororo) (2.10)\n",
            "Requirement already satisfied: certifi>=2017.4.17 in /usr/local/lib/python3.7/dist-packages (from requests->word2word->pororo) (2020.12.5)\n",
            "Requirement already satisfied: chardet<4,>=3.0.2 in /usr/local/lib/python3.7/dist-packages (from requests->word2word->pororo) (3.0.4)\n",
            "Requirement already satisfied: urllib3!=1.25.0,!=1.25.1,<1.26,>=1.21.1 in /usr/local/lib/python3.7/dist-packages (from requests->word2word->pororo) (1.24.3)\n",
            "Requirement already satisfied: zipp>=0.5 in /usr/local/lib/python3.7/dist-packages (from importlib-metadata; python_version < \"3.8\"->transformers>=4.0.0->pororo) (3.4.1)\n",
            "Requirement already satisfied: typing-extensions>=3.6.4; python_version < \"3.8\" in /usr/local/lib/python3.7/dist-packages (from importlib-metadata; python_version < \"3.8\"->transformers>=4.0.0->pororo) (3.7.4.3)\n",
            "Requirement already satisfied: six in /usr/local/lib/python3.7/dist-packages (from sacremoses->transformers>=4.0.0->pororo) (1.15.0)\n",
            "Requirement already satisfied: pyparsing>=2.0.2 in /usr/local/lib/python3.7/dist-packages (from packaging->transformers>=4.0.0->pororo) (2.4.7)\n",
            "Requirement already satisfied: PyYAML>=5.1.* in /usr/local/lib/python3.7/dist-packages (from omegaconf<2.1,>=2.0.5->hydra-core->fairseq>=0.10.2->pororo) (5.4.1)\n"
          ],
          "name": "stdout"
        }
      ]
    },
    {
      "cell_type": "code",
      "metadata": {
        "id": "Lu8K9wCn09xy"
      },
      "source": [
        "import os\n",
        "from subprocess import Popen, PIPE, STDOUT\n",
        "es_server = Popen(['/content/elasticsearch-7.9.2/bin/elasticsearch'],\n",
        "                   stdout=PIPE, stderr=STDOUT,\n",
        "                   preexec_fn=lambda: os.setuid(1)\n",
        "                  )\n",
        "! sleep 30"
      ],
      "execution_count": null,
      "outputs": []
    },
    {
      "cell_type": "code",
      "metadata": {
        "colab": {
          "base_uri": "https://localhost:8080/"
        },
        "id": "OvkEW6BO0_zx",
        "outputId": "457f60d4-2aff-4944-a926-75bdcb50eeaa"
      },
      "source": [
        "! /content/elasticsearch-7.9.2/bin/elasticsearch-plugin install analysis-nori"
      ],
      "execution_count": null,
      "outputs": [
        {
          "output_type": "stream",
          "text": [
            "-> Installing analysis-nori\n",
            "-> Downloading analysis-nori from elastic\n",
            "[=================================================] 100%   \n",
            "-> Failed installing analysis-nori\n",
            "-> Rolling back analysis-nori\n",
            "-> Rolled back analysis-nori\n",
            "ERROR: plugin directory [/content/elasticsearch-7.9.2/plugins/analysis-nori] already exists; if you need to update the plugin, uninstall it first using command 'remove analysis-nori'\n"
          ],
          "name": "stdout"
        }
      ]
    },
    {
      "cell_type": "code",
      "metadata": {
        "id": "6TjvsWGZ1CsR"
      },
      "source": [
        "es_server.kill()"
      ],
      "execution_count": null,
      "outputs": []
    },
    {
      "cell_type": "code",
      "metadata": {
        "id": "K4RR06Wm1ECH"
      },
      "source": [
        "import os\n",
        "from subprocess import Popen, PIPE, STDOUT\n",
        "es_server = Popen(['/content/elasticsearch-7.9.2/bin/elasticsearch'],\n",
        "                   stdout=PIPE, stderr=STDOUT,\n",
        "                   preexec_fn=lambda: os.setuid(1)\n",
        "                  )\n",
        "! sleep 30"
      ],
      "execution_count": null,
      "outputs": []
    },
    {
      "cell_type": "code",
      "metadata": {
        "id": "v0markao1TwT"
      },
      "source": [
        "from elasticsearch import Elasticsearch\n",
        "es = Elasticsearch(\"http://localhost:9200\", timeout=30, max_retries=10, retry_on_timeout=True)\n",
        "\n",
        "#출처: https://somjang.tistory.com/entry/Elasticsearch-ConnectionTimeout-caused-by-ReadTimeoutError-feat-bulk-API-python [솜씨좋은장씨]"
      ],
      "execution_count": null,
      "outputs": []
    },
    {
      "cell_type": "code",
      "metadata": {
        "colab": {
          "base_uri": "https://localhost:8080/"
        },
        "id": "O5t8IBxu1V5j",
        "outputId": "4edfc9e2-fb59-4e05-d016-f5ead742fecc"
      },
      "source": [
        "es.info()"
      ],
      "execution_count": null,
      "outputs": [
        {
          "output_type": "execute_result",
          "data": {
            "text/plain": [
              "{'cluster_name': 'elasticsearch',\n",
              " 'cluster_uuid': 'r35-ge6PRiK4KBeF1oFXwg',\n",
              " 'name': '6dac72d0c4dd',\n",
              " 'tagline': 'You Know, for Search',\n",
              " 'version': {'build_date': '2020-09-23T00:45:33.626720Z',\n",
              "  'build_flavor': 'default',\n",
              "  'build_hash': 'd34da0ea4a966c4e49417f2da2f244e3e97b4e6e',\n",
              "  'build_snapshot': False,\n",
              "  'build_type': 'tar',\n",
              "  'lucene_version': '8.6.2',\n",
              "  'minimum_index_compatibility_version': '6.0.0-beta1',\n",
              "  'minimum_wire_compatibility_version': '6.8.0',\n",
              "  'number': '7.9.2'}}"
            ]
          },
          "metadata": {
            "tags": []
          },
          "execution_count": 90
        }
      ]
    },
    {
      "cell_type": "code",
      "metadata": {
        "id": "IU2SvSDn1XHL"
      },
      "source": [
        "es.indices.create(index = 'document_a',\n",
        "                  body = {\n",
        "                      'settings':{\n",
        "                          'analysis':{\n",
        "                              'analyzer':{\n",
        "                                  'my_analyzer':{\n",
        "                                      \"type\": \"custom\",\n",
        "                                      'tokenizer':'nori_tokenizer',\n",
        "                                      'decompound_mode':'mixed',\n",
        "                                      'stopwords':'_korean_',\n",
        "                                      'synonyms':'_korean_',\n",
        "                                      \"filter\": [\"lowercase\",\n",
        "                                                 \"my_shingle_f\",\n",
        "                                                 \"nori_readingform\",\n",
        "                                                 \"nori_number\",\n",
        "                                                 \"cjk_bigram\",\n",
        "                                                 \"decimal_digit\",\n",
        "                                                 \"stemmer\",\n",
        "                                                 \"trim\"]\n",
        "                                  }\n",
        "                              },\n",
        "                              'filter':{\n",
        "                                  'my_shingle_f':{\n",
        "                                      \"type\": \"shingle\"\n",
        "                                  }\n",
        "                              }\n",
        "                          },\n",
        "                          'similarity':{\n",
        "                              'my_similarity':{\n",
        "                                  'type':'BM25',\n",
        "                              }\n",
        "                          }\n",
        "                      },\n",
        "                      'mappings':{\n",
        "                          'properties':{\n",
        "                              'title':{\n",
        "                                  'type':'text',\n",
        "                                  'analyzer':'my_analyzer',\n",
        "                                  'similarity':'my_similarity'\n",
        "                              },\n",
        "                              'text':{\n",
        "                                  'type':'text',\n",
        "                                  'analyzer':'my_analyzer',\n",
        "                                  'similarity':'my_similarity'\n",
        "                              },\n",
        "                              'text_origin':{\n",
        "                                  'type':'text',\n",
        "                                  'analyzer':'my_analyzer',\n",
        "                                  'similarity':'my_similarity'\n",
        "                              }\n",
        "                          }\n",
        "                      }\n",
        "                  }\n",
        "                  )"
      ],
      "execution_count": null,
      "outputs": []
    },
    {
      "cell_type": "code",
      "metadata": {
        "id": "QaD0oLtUJaGO"
      },
      "source": [
        "import json\n",
        "import pandas as pd\n",
        "import re\n",
        "from tqdm import tqdm\n",
        "from pororo import Pororo\n",
        "from datasets import load_from_disk\n",
        "from elasticsearch import Elasticsearch, helpers\n",
        "from datasets import Dataset"
      ],
      "execution_count": null,
      "outputs": []
    },
    {
      "cell_type": "code",
      "metadata": {
        "id": "vTXx7ageiWnu"
      },
      "source": [
        "wiki_path = #'/content/drive/MyDrive/Colab_data/ai_boostcamp_data/p-stage-3/title_고려안함/wiki_for_retriever/new_wikipedia_documents.json'\n",
        "path = #'/content/drive/MyDrive/Colab_data/ai_boostcamp_data/p-stage-3/title_고려안함/datasets1.6.2/'"
      ],
      "execution_count": null,
      "outputs": []
    },
    {
      "cell_type": "code",
      "metadata": {
        "id": "ignHOl3NjK6N"
      },
      "source": [
        "with open(os.path.join(wiki_path), \"r\") as f:\n",
        "    wiki_data = pd.DataFrame(json.load(f)).transpose()"
      ],
      "execution_count": null,
      "outputs": []
    },
    {
      "cell_type": "code",
      "metadata": {
        "id": "mhx2OBp9ik2H"
      },
      "source": [
        "# 사용할 데이터셋을 가져와주세요.\n",
        "tdk12_dataset = load_from_disk(path+'tdk12')"
      ],
      "execution_count": null,
      "outputs": []
    },
    {
      "cell_type": "code",
      "metadata": {
        "id": "jBb7e-GpipFd"
      },
      "source": [
        "wiki_data = wiki_data.drop_duplicates(['text']) # 3876\n",
        "\n",
        "wiki_data = wiki_data.reset_index()\n",
        "\n",
        "del wiki_data['index']"
      ],
      "execution_count": null,
      "outputs": []
    },
    {
      "cell_type": "code",
      "metadata": {
        "id": "-PQjxeO6jOMI"
      },
      "source": [
        "wiki_data['text_origin'] = wiki_data['text']\n",
        "\n",
        "wiki_data['text_origin'] = wiki_data['text_origin'].apply(lambda x : ' '.join(re.sub(r'''[^ \\r\\nㄱ-ㅎㅏ-ㅣ가-힣a-zA-Z0-9ぁ-ゔァ-ヴー々〆〤一-龥~₩!@#$%^&*()“”‘’《》≪≫〈〉『』「」＜＞_+|{}:\"<>?`\\-=\\\\[\\];',.\\/·]''', ' ', str(x.lower().strip())).split()))\n",
        "\n",
        "wiki_data['text'] = wiki_data['text'].apply(lambda x : x.replace('\\\\n\\\\n',' '))\n",
        "wiki_data['text'] = wiki_data['text'].apply(lambda x : x.replace('\\n\\n',' '))\n",
        "wiki_data['text'] = wiki_data['text'].apply(lambda x : x.replace('\\\\n',' '))\n",
        "wiki_data['text'] = wiki_data['text'].apply(lambda x : x.replace('\\n',' '))\n",
        "\n",
        "wiki_data['text'] = wiki_data['text'].apply(lambda x : ' '.join(re.sub(r'''[^ \\r\\nㄱ-ㅎㅏ-ㅣ가-힣]''', ' ', str(x.lower().strip())).split()))"
      ],
      "execution_count": null,
      "outputs": []
    },
    {
      "cell_type": "code",
      "metadata": {
        "id": "5VuT-fOekMmD"
      },
      "source": [
        "title = []\n",
        "text = []\n",
        "text_origin = []\n",
        "\n",
        "for num in tqdm(range(len(wiki_data))):\n",
        "    cnt = 0\n",
        "    while cnt < len(wiki_data['text'][num]):\n",
        "        title.append(wiki_data['title'][num])\n",
        "        text.append(wiki_data['text'][num][cnt:cnt+1000])\n",
        "        text_origin.append(wiki_data['text_origin'][num])\n",
        "        cnt+=1000"
      ],
      "execution_count": null,
      "outputs": []
    },
    {
      "cell_type": "code",
      "metadata": {
        "id": "Js2ZZLvGkPNu"
      },
      "source": [
        "df = pd.DataFrame({'title':title,'text':text,'text_origin':text_origin})"
      ],
      "execution_count": null,
      "outputs": []
    },
    {
      "cell_type": "code",
      "metadata": {
        "id": "6ntjIafYjOJR"
      },
      "source": [
        "buffer = []\n",
        "rows = 0\n",
        "\n",
        "for num in tqdm(range(len(df))):\n",
        "    article = {\"_id\": num,\n",
        "               \"_index\": \"document_a\", \n",
        "               \"title\" : df['title'][num],\n",
        "               \"text\" : df['text'][num],\n",
        "               \"text_origin\" : df['text_origin'][num]}\n",
        "\n",
        "    buffer.append(article)\n",
        "\n",
        "    rows += 1\n",
        "\n",
        "    if rows % 1000 == 0:\n",
        "        helpers.bulk(es, buffer)\n",
        "        buffer = []\n",
        "\n",
        "        print(\"Inserted {} articles\".format(rows), end=\"\\r\")\n",
        "\n",
        "if buffer:\n",
        "    helpers.bulk(es, buffer)\n",
        "\n",
        "print(\"Total articles inserted: {}\".format(rows))"
      ],
      "execution_count": null,
      "outputs": []
    },
    {
      "cell_type": "code",
      "metadata": {
        "id": "8ajDPD7ElgXW"
      },
      "source": [
        "ner = Pororo(task=\"ner\", lang=\"ko\")"
      ],
      "execution_count": null,
      "outputs": []
    },
    {
      "cell_type": "markdown",
      "metadata": {
        "id": "qcdxCXUZq7Ta"
      },
      "source": [
        "# 세팅이 끝났으니 생성하자."
      ]
    },
    {
      "cell_type": "markdown",
      "metadata": {
        "id": "gY_xJH91MX1w"
      },
      "source": [
        "## 정답이 아예 없는 오답 문서-질문 데이터 제작\n",
        "\n",
        "특정 질문에 대한 답이 없다는 것을 제공하는 데이터입니다.\n",
        "\n",
        "정답이 문서에 들어가 있는 경우에는, 해당 문서를 가져오지 않는 방법입니다.\n",
        "\n",
        "또한, 가져온 문서들는 1000 글자까지만 받아 concat 합니다. 학습 시간이 부족해서 그랬습니다.\n",
        "\n",
        "생성된 데이터는 answers가 없고, 답을 이끌어 낼 수 없는 지문만이 context에 제공됩니다."
      ]
    },
    {
      "cell_type": "code",
      "metadata": {
        "id": "howDguLKrBAw"
      },
      "source": [
        "def full_neg_2_concat(dict_):\n",
        "    query = {\n",
        "        'query':{\n",
        "            'bool':{\n",
        "                'must':[\n",
        "                        {'match':{'text':dict_['question']}}\n",
        "                ],\n",
        "                'should':[\n",
        "                        {'match':{'text':' '.join([i[0] for i in ner(dict_['question']) if i[1] != 'O'])}}\n",
        "                ]\n",
        "            }\n",
        "        }\n",
        "    }\n",
        "    es_docs = es.search(index='document_a',body=query,size=20)['hits']['hits']\n",
        "    \n",
        "    docs = []\n",
        "    for doc in es_docs:\n",
        "        d = doc['_source']['text_origin']\n",
        "        if dict_['context'] == d:\n",
        "            continue\n",
        "        if dict_['answers']['text'][0] in d: # 가져온 문서에 정답 span이 존재하지 않아야 한다.\n",
        "            continue\n",
        "        docs.append(d[:1000])\n",
        "        if len(docs) == 2:\n",
        "            break\n",
        "\n",
        "    if not docs:\n",
        "        docs.append('') # 차후에 이를 바탕으로 데이터를 삭제할 수 있습니다.\n",
        "\n",
        "    dict_['context'] = ' '.join(docs)\n",
        "    dict_['answers']['answer_start'] = []\n",
        "    dict_['answers']['text'] = ['']\n",
        "    dict_['id'] = 'NEG_'+dict_['id']\n",
        "    return dict_\n"
      ],
      "execution_count": null,
      "outputs": []
    },
    {
      "cell_type": "code",
      "metadata": {
        "id": "fHHsQ669rC0b"
      },
      "source": [
        "m = load_from_disk(path+#데이터셋이름)"
      ],
      "execution_count": null,
      "outputs": []
    },
    {
      "cell_type": "code",
      "metadata": {
        "colab": {
          "base_uri": "https://localhost:8080/",
          "height": 177,
          "referenced_widgets": [
            "b8eef70ae030425a936383917434bebe",
            "14a044c41b0a4c59a7fefbd2fe1fd282",
            "83f274885a8349a1b154a26e02f33dd2",
            "f2d97a637a03455aa9aec8d5f80c6f56",
            "c8a5de49c3784c81bd747bdeedd66750",
            "deb82abe28764792a571d0f65db5fe78",
            "e567d1f9f31f4fd3a2402c678f9ddfaa",
            "d8865c043c2d4ac1a5e6139d72106c14"
          ]
        },
        "id": "Bk00zfqFrC0b",
        "outputId": "13bf0e73-f5f5-46b2-9ac2-563f030f8e80"
      },
      "source": [
        "m2 = m.map(full_neg_2_concat)\n",
        "m2['context'][:5]"
      ],
      "execution_count": null,
      "outputs": [
        {
          "output_type": "display_data",
          "data": {
            "application/vnd.jupyter.widget-view+json": {
              "model_id": "b8eef70ae030425a936383917434bebe",
              "version_major": 2,
              "version_minor": 0
            },
            "text/plain": [
              "HBox(children=(FloatProgress(value=0.0, max=66835.0), HTML(value='')))"
            ]
          },
          "metadata": {
            "tags": []
          }
        },
        {
          "output_type": "stream",
          "text": [
            "\n"
          ],
          "name": "stdout"
        },
        {
          "output_type": "execute_result",
          "data": {
            "text/plain": [
              "['제로-100 프로젝트의 5대 과제는 다음과 같다. # 과제누수 제로를 위해 2012년 정책포털시스템을 구축하고 그 안에 도정과제관리시스템을 구축하여 개인이 추진하고 있는 과제(2014년 말 기준 3,132개)를 등록하여 관리하고 전 직원이 공유한다. #직무수수 제로를 위해 내부 직원들이 사용하는 행정포털시스템에 직무편람시스템을 구축(2012년)하고 조직원들이 업무 추진과정에서 알게된 노하우나 전문지식을 편람으로 등록(2014년 말 기준 3,675건)하여 업무 관련 지식을 체계적으로 축적하고 공유하고 있으며 담당자 변경시 인계인수를 통해 누수 없는 업무를 추진한다. # 회의낭비 제로를 위해 2012년 정책포털에 디지털회의시스템을 구축하고 회의개요, 회의자료, 회의결과 등을 등록·공유하여 하고 있으며 불필요한 회의 축소 등 생산적인 회의문화를 조성한다. # 민원누수 제로를 위해 민원처리과정을 공개하고 2017년 민원통합관리시스템을 구축하여 민원정보를 집적하고 통합관리 및 운영한다. # 충청남도는 국민주권주의를 실현하기 위해서는 정부가 보유한 정보의 공개가 먼저 이루어져야 함을 인식하고 결재문서, 재정정보 등 다양한 정보를 100% 공개하기 위해 노력한다. 2017년 기준 충청남도의 결재문서 원문정보 공개율을 95.5% 로 전 행정기관(공공기관 제외) 중 1위이다. 또한 2013년 전국 최초로 재정정보공개시스템을 구축하고 세입·세출내역 등 살림살이 정보를 내부 재정관리시스템인 e호조와 연계하여 공개하기 시작했고 , 이는 국가재정법 및 지방재정법 개정으로 이어져 전국 행정기관으로 확산되었다. 충청남도는 이에 그치지 않고 2016년 말 도 소속 20개 공공기관이 공동으로 활용하는 공공기관 업무지원시스템을 구축하고 2017년부터 공공기관까지 문서 및 재정정보공개를 시작하였다. 이 외에도, 중장기계획, 통계, 주요 지표의 체계적 관리, 자료취합시스템, 통화이력 관리시스템, 협업포인트 제도, 비영리법인 관리시스템, 재정정보공개시스템 고도화 등 지속적으로 제로-100 프로젝트 자연언어 처리 및 정보검색에서 명시 의미 분석 (explicit semantic analysis, esa)는 문서 코퍼스를 지식 베이스로 사용하여 개별 단어 혹은 전체 문서 텍스트를 벡터 형태로 표현하는 것을 가리킨다. 특히 esa에서는 단어는 해당 텍스트 코퍼스의 tf idf 행렬의 열벡터로 표현되고, 단어의 나열인 문서는 해당 벡터들의 중심값으로 표현된다. 명시 의미 분석은 evgeniy gabrilovich와 shaul markovitch에 의해 텍스트 분류 를 개선하는 수단으로 고안되었고 두 연구자에 의해 \"의미적 관계도\"라고 불리는 것을 계산하기 위해 이용되었다. 이 의미적 관계도는 상기 벡터들의 코사인 유사성을 통해 얻어지는데, 이는 \"인간이 명시적으로 정의하고 설명하는 개념\"의 공간으로 집합적으로 해석된다. \"명시 의미 분석\"이라는 이름은 잠재 의미 분석(latent semantic analysis)과 대조되는데, 지식 베이스를 사용하기 때문에 벡터 공간으로 만들어지는 개념에 사람이 이해할 수 있는 라벨을 붙일 수가 있기 때문에 이런 이름이 붙었다.',\n",
              " '2018년 6월 7일, 시시 대통령은 마드 불리 를 총리로 임명했습니다. 논쟁의 여지가있는 대통령 선거에서 시시의 재선거로 사임 한 셰리프 이스마일. 6월 9 일, 마드 불리 총리는 이집트의 내각을 개편했습니다. 6월 9일, 마드 불리 총리는 이집트의 내각을 개편했습니다. 고대 부처 칼리드 알아 나니, 인력 부 장관 모하메드 사판, 관개 부 장관 모하메드 압델 에티, 보건부 장관 아메드 에마 딘, 농업부 장관 압델 모니 엠 알 반나, 고등부 장관 칼리드 압델 가파르 를 포함한 8 명의 장관 교체. 같은 날 이집트 의회가 그의 새 내각 장관 목록에 동의 한 것으로 알려졌다. 6월 10일, 8 명의 여성이 그의 내각에서 복무하여 이전 행정부의 기록적인 6 명을 깰 것으로 밝혀졌다. 목회자 후보의 최종 후보자 목록에는 주택 장관으로서의 아셈 엘가 자르; 건강 부 장관 인 할라 자예드; 환경 장관으로 야스민 푸 아드; 인력 부 장관 인 모하메드 아 이사; 무역 및 산업 장관으로서 아 므르 사르; 정의의 장관으로서의 매디 아보 엘 엘라, 젊음과 스포츠의 장관으로서의 할라 엘-카 티브 또는 아쉬 라프 소비; 지역 개발을위한 국가 장관으로서 마흐무드 샤라 위; 새로운 재무 장관 인 모하메드 모이 에트 여덟 명의 여성은 투자, 기획, 건강, 환경, 사회 연대, 이민, 관광 및 문화의 장관으로 봉사 할 것이며, 이스마일 의 내각 장관은 석유, 교통, 교육, 고등 교육부, 외교, 내륙, 국방, 군사 생산, 관광 및 국회 6월 13일, 마드 불리 는 13-16 명의 차장을 선출했으며 마드 불리 와 그의 정부는 6월 14일 sisi에 의해 맹세 될 것이라고보고되었다. 마드 불리 와 그의 내각은 6월 14일 시시 에 의해 맹세되었습니다. 그는 또한 주택 부 장관직을 유지할 것입니다. 정부는 6월 23일에 정책 선언을 발표 할 것으로보고되었다. 그러나 살라 하사 발라 의회 대변인은이 보고서가 틀렸다는 것을 확인했다. 6월 23일, 하사 발라 는 의회에 앞서 정책 발표를 발표 할 날짜는 뉴기니섬, 바누아투, 솔로몬제도, 미크로네시아의 많은 오세아니아어군 언어들은 svo형, 즉 동사가 문장 중간에 오는 언어들이다. sov형, 즉 동사가 문장 끝에 오는 어순은 오스트로네시아어족 내에서는 유형론적으로 특이한 경우이며, 솔로몬 제도의 극히 일부 지역과 뉴기니섬에서 사용되는 언어 몇 개에서만 발견된다. 이러한 분포는 sov형 어순이 오세아니아어군 언어들과 인접한 일부 비오스트로네시아계 파푸아 제어에서 매우 흔하기 때문이다. 한편, 폴리네시아어군 대부분과 누벨칼레도니의 여러 언어는 vso형 어순을 갖는다. 오세아니아조어가 svo형이었는지 vso형이었는지는 여전히 논쟁의 여지가 있다.',\n",
              " '그리넬 칼리지의 개방 교육과정은 학생들이 주도적으로 공부하고 스스로 책임을 지도록 한다. 유일한 필수 과목은 1학년 때 한 학기동안 듣는 튜토리얼로 탐구 방법과 비판적 분석법, 글쓰기 등을 배우는 토론식 수업이다. 다른 수업들은 모두 선택 과목으로 교원이 학생에게 직접 지도를 한다. 인기가 많은 전공으로는 심리학과 경제학, 생물학, 역사학, 영문학, 정치학 등이 있다. 그리넬 칼리지는 사회 및 정치 인식과 국제성을 강조해 학생의 교정 밖 학습을 중요시한다. 그리넬 칼리지 학생 가운데 약 60%가 적어도 교정 밖 학습 과정 가운데 하나 이상에 참여하고, 유럽이나 아프리카, 근동, 아시아에서 공부하는 교육 과정도 있다. 그리넬 칼리지의 학생들은 스스로의 행동을 통제하는 명예 제도인 자치 제도를 지킨다. 선택의 자유를 뿌리로 하는 공동체를 배양함으로써 자치 제도는 학생들이 학교와 마을, 세계 공동체의 책임감 있고 정중한 일원이 되도록 하는 데에 목표를 둔다. 봉사활동 조직도 활발하게 운영되는데 2005년 기준으로 미국의 대학 가운데 동문 대비 미국 평화 봉사단원이 가장 많은 대학으로 그리넬 칼리지가 꼽혔다. 2012년 북부 말리의 투아레그 및 다른 민족들이 아자와드 지역에서 아자와드 민족해방운동을 설립하여 반란을 일으켰다. 2011년 리비아 내전 이후 무기가 대량으로 유입되고 2012년 말리 쿠데타 이후 무기를 쉽게 얻을 수 있게 된 이후, 이들은 말리군을 상대로 초기에 승리를 거두었다. 쿠데타 이후 반군은 가오, 팀북투, 키달을 점령하고 북부 말리 전체로 진군하기 시작했다. 서아프리카 경제 공동체가 경제 제재 및 봉쇄를 한 이후 서아프리카 경제 공동체의 부르키나파소의 대통령 블레이즈 콩파오레가 주선한 거래가 성사되었고, 아마두 사노고가 디온쿤다 트라오레에게 선거가 있을 때까지 권력을 인계하는 것이 조건이었다. 2013년 7월 1일 12,600명의 유엔 평화유지군 중 6,000명의 병력이 서아프리카 경제 공동체와 프랑스가 주도하는 아프리카 주도 말리 국제지원임무로부터 북부 말리 순찰 책임권을 공식적으로 인계받았다. 이 집단은 2013년 말리 대통령 선거에서 중요한 역할을 했을 것이라고 본다. 말리에 파견된 평화유지군은 유엔 역사상 세번째로 큰 규모이다.',\n",
              " \"관훈동 민씨 가옥(寬勳洞 閔氏 家屋)은 원래는 행정구역 개편 이전에 서울특별시 종로구 관훈동 30-1에 소재하고 있었으며, 남산한옥마을로 이전하기 전 문화재 지정 명칭은 '관훈동 이진승가옥'이었다. 또한 부마도위 박영효 가옥(駙馬都尉朴泳孝家屋)으로 불린 바 있다. 박영효는 조선시대 25대 왕인 철종과 숙의 범씨 사이에서 난 영혜옹주의 남편이다. 박영효는 이 가옥 외에 안국동 윤보선가에서도 살았고, 후일 창신동에서도 큰 저택을 짓고 살았다. 서울 8대가 중의 하나로 전해지는 이 가옥은 안채·사랑채·별당채·대문간채·행랑채로 이루어져 있었으나, 안채 외에는 헐리어 없던 것을 이건하면서 사랑채와 별당채만 복원하였다. 김선자는 1986년 10월 31일에 서울 중구 신당동에 거주하던 자신의 친구이자 계원인 김계환(여자, 당시 49세)에게 목욕탕에 함께 가자고 제안하고 김계환을 목욕탕으로 유인하게 된다. 김계환은 김선자로부터 받은 청산염이 들어간 쌍화탕을 마시고 쓰러지고 만다. 김계환은 인근 병원으로 옮겨졌지만 심한 경련과 호흡곤란으로 인해 사망하고 만다. 1차 범행을 저지른 김선자는 김계환의 목걸이와 반지를 훔치고 도망쳤지만 경찰은 별다른 증거를 찾지 못했다고 한다. \\\\n\\\\n1987년 4월 4일에는 서울 중구 신당동에 거주하던 채권자인 전순자(여자, 당시 50세)에게 영등포에서 돈을 받기 위해 시내버스를 함께 타자고 제안했다. 김선자는 2차 범행 이전에 전순자로부터 700만 원을 빌려온 상태였고 사건 당일에 전순자와 함께 시내버스에 탑승하게 된다. 전순자는 김선자로부터 받은 청산염이 들어간 정체불명의 음료수를 마시고 독극물 중독 증세를 호소하면서 버스 안에서 쓰러지고 만다. 전순자는 인근 병원으로 옮겨졌지만 그 자리에서 사망하고 만다. \\\\n\\\\n1988년 2월 10일에는 서울 중구 신당동에 거주하던 채권자인 김순자(여자, 당시 46세)에게 채무자로부터 돈을 받기 위해 다방에 함께 가자고 제안했다. 김선자는 3차 범행 이전에 김순자로부터 120만 원을 빌려온 상태였고 사건 당일에 김순자와 함께 다방으로 가게 된다. 김선자는 김순자와 함께 채무자가 오기를 기다렸지만 채무자는 끝내 다방에 나오지 않았다. 김순자는 김선자로부터 받은 청산염이 들어간 율무차를 마셨고 택시를 타고 집으로 돌아오던 도중에 구토 증세를 호소했다. 김선자는 김순자에게 건강음료를 마시면 괜찮아질 것이라고 생각하고 택시에서 함께 내리자고 제안했지만 김선자의 행동을 의심한 김순자는 이를 무시했다. 김선자는 김순자를 살인하려던 계획이 미수에 그친 이후에 김순자에게 빌린 120만 원을 갚았고 김순자의 집을 방문해서 김순자의 안부를 물었다고 한다\\\\n\\\\n1988년 3월 27일에는 친척의 회갑연에 참석하고 귀가하던 자신의 아\",\n",
              " '1960년 충청북도 청주에서 출생하였다. 홍익대학교 서양화과를 졸업하고 미국 뉴욕 프랫 아트인스티튜트를 졸업한 후 현재까지 뉴욕에서 작품 활동을 하고 있으며 백남준 이후 국제무대에서 한국을 빛내는 예술가로 꼽히고 있다. 1994년 휘트니미술관에서 백남준과 〈멀티플 다이얼로그〉전을 열면서 강익중 특별展 이름을 알리기 시작했다. 1997년 베네치아비엔날레에 한국대표로 참가하여 특별상을 수상하였고 1999년 독일의 루드비히미술관에서 선정하는 \\'20세기 미술작가 120명\\'에 선정되기도 하였다. 2001년 un본부에서 ‘amazedworld’ 전시, 2005년 알리센터에 ‘희망과 꿈’을 설치하는 등 활발한 작품 활동을 펼치고 있다. 최근에는 한글 작품을 제작해 전 세계 각지에 전시하거나 기증해 나가고 있다. 미국 뉴욕과 유럽 등 세계 곳곳의 ‘특수한 장소’에서 그 장소의 주제에 맞는 공공미술 프로젝트를 진행하며 활동중인 그는 2018년 순국선열에 대한 추모의 마음과 통일염원을 담은 공공미술 작품을 2018년 현충일에 순천만 국제정원에서 선보였다. 요코 오노는 플럭서스의 일원이었다. 그녀의 작품은 플럭서스 운동의 창시자인 조지 마시우너스로부터 열열한 찬사를 받았다. 그당시 또다른 플럭서스 회원이었던 백남준과의 친분도 있어 후에 백남준의 장례를 치룰 때 추모사를 낭독하기도 했다.그러나 그녀는 플럭서스의 일원이 아닌 독립 예술가로 평가받기를 원했다. \\\\n\\\\n오노는 개념 미술과 행위 예술을 탐구하였다. 1964년 도쿄의 소게츠 아트 센터에서 공연된 \"조각내기\"(영어 cut piece)는 그녀의 대표적인 행위 예술 중 하나로 이름 만큼이나 파괴적인 내용을 담고 있었다. 그녀는 무대를 걷다 옷자락에 걸려 무릎을 꿇고 관중의 요구에 따라 알몸이 될 때까지 걸친 옷을 잘라내었다. 오노는 대학 시절 장 폴 사르트르의 실존주의 사상으로부터 큰 영향을 받았으며, 자기 스스로의 인간적 고뇌를 달래는 작품을 갈망해왔다. 그런 이유로 오노는 자신의 예술 작품을 통해 자신의 관점과 개성을 온전히 표출하고자 하였다. 그녀의 대표작 중 하나가된 \"조각내기\"의 경우, 오노는 작품을 통해 사회적 연대와 사랑을 주요 주제로 하여 성(性)과 성차별, 그리고 인간의 고뇌와 고독으로 인한 거대한 우주적인 고통을 다루고 있다. 오노는 \"조각내기\"를 런던에서도 공연하였다. 일본의 관객이 소극적이고 조심스러웠던 데 반해 영국의 관객들은 적극적으로 퍼포먼스에 참여하며 열광하였다. 런던에서는 관객들이 잘려나간 오노의 옷을 집기위해 몰려들어 오노는 보안요원의 보호를 받아야 할 정도였다.\\\\n\\\\n1964년 오노는 자신의 개념 미술을 설명하기 위해 《그레이프플루이트》를 발간하였다. 오노는 여기서 자신의 활동을 초현실주의, 선(禪) 등과 관련지어 설명하였다.\\\\n\\\\n오노는 1966년부터 1972년까지 몇 편의 영화를 제작하기도 하였다. 1966년 작품 《n0.4》는 \"바닥\"이라는 별칭을 갖고 있는데, 이 작품에서 오노는 자동길 위에 서 있는 사람의 엉덩이를 집요하게 클로즈업하여 보여준다.\\\\n\\\\n존 레논은 요코에 대해 이렇게 말했다.\\\\n요코는 세계에서 가장 유명한']"
            ]
          },
          "metadata": {
            "tags": []
          },
          "execution_count": 97
        }
      ]
    },
    {
      "cell_type": "code",
      "metadata": {
        "id": "PMKhNe-3t-tK"
      },
      "source": [
        "m2.save_to_disk(path+#데이터셋이름)"
      ],
      "execution_count": null,
      "outputs": []
    },
    {
      "cell_type": "markdown",
      "metadata": {
        "id": "ikgWs9iUq6J8"
      },
      "source": [
        "## 오답 문서 concat 원본 문서-질문 데이터 제작\n",
        "\n",
        "리트리버가 가져온 후보 문서들을 concat 합니다.\n",
        "\n",
        "단, answers span이 적절하지 않은 문서에 존재하더라도 그 문서를 concat합니다.\n",
        "\n",
        "문서 길이는 2000자 까지만 받아 넣습니다.\n",
        "\n",
        "---\n",
        "\n",
        "학습 코드에서 데이터 셋을 모델의 입력 차원 만큼으로 잘라서 넣기 때문에, \n",
        "\n",
        "실제 학습에서는 위의 방법과 큰 차이는 없습니다."
      ]
    },
    {
      "cell_type": "code",
      "metadata": {
        "id": "k_tj-_e-jN2t"
      },
      "source": [
        "def neg_2_concat(dict_): \n",
        "    query = {\n",
        "        'query':{\n",
        "            'bool':{\n",
        "                'must':[\n",
        "                        {'match':{'text':dict_['question']}}\n",
        "                ],\n",
        "                'should':[\n",
        "                        {'match':{'text':' '.join([i[0] for i in ner(dict_['question']) if i[1] != 'O'])}}\n",
        "                ]\n",
        "            }\n",
        "        }\n",
        "    }\n",
        "    es_docs = es.search(index='document_a',body=query,size=3)['hits']['hits']\n",
        "    \n",
        "    docs = []\n",
        "    for doc in es_docs:\n",
        "        d = doc['_source']['text_origin']\n",
        "        if dict_['context'] == d:\n",
        "            continue\n",
        "        docs.append(d[:2000])\n",
        "        if len(docs) == 2:\n",
        "            break\n",
        "    \n",
        "    dict_['context'] = dict_['context'] + ' ' + ' '.join(docs)\n",
        "    return dict_\n"
      ],
      "execution_count": null,
      "outputs": []
    },
    {
      "cell_type": "code",
      "metadata": {
        "id": "07YqiIguoZTm"
      },
      "source": [
        "tdk12_tag_dataset = load_from_disk(path+#데이터 셋 이름)"
      ],
      "execution_count": null,
      "outputs": []
    },
    {
      "cell_type": "code",
      "metadata": {
        "colab": {
          "base_uri": "https://localhost:8080/",
          "height": 177,
          "referenced_widgets": [
            "77c9976d38044ca6a654c1efb55452b9",
            "1c09cd1138c5405e91ad05bda159d585",
            "2cd8b693c1b247478134793483f619f3",
            "945d28af0e174f49b80de420cc6d1b4e",
            "026139010f334084becadca9cc355947",
            "d2aed69cafac4162ac49838685855b0a",
            "1f1cb18ecd9e4a919d12f4079bb963ef",
            "c343c18d694743d895f1092cf9b69256"
          ]
        },
        "id": "XSW9g3cbipBd",
        "outputId": "26ce5258-2754-4c36-dd90-e81c2d3328e7"
      },
      "source": [
        "tdk12_tag_dataset2 = tdk12_tag_dataset.map(neg_2_concat)\n",
        "tdk12_tag_dataset2['context'][:5]"
      ],
      "execution_count": null,
      "outputs": [
        {
          "output_type": "display_data",
          "data": {
            "application/vnd.jupyter.widget-view+json": {
              "model_id": "77c9976d38044ca6a654c1efb55452b9",
              "version_minor": 0,
              "version_major": 2
            },
            "text/plain": [
              "HBox(children=(FloatProgress(value=0.0, max=131554.0), HTML(value='')))"
            ]
          },
          "metadata": {
            "tags": []
          }
        },
        {
          "output_type": "stream",
          "text": [
            "\n"
          ],
          "name": "stdout"
        },
        {
          "output_type": "execute_result",
          "data": {
            "text/plain": [
              "['미국 상의원 또는 미국 상원(United States Senate)은 양원제인 미국 의회의 상원이다.\\\\n\\\\n미국 부통령이 상원의장이 된다. 각 주당 2명의 상원의원이 선출되어 100명의 상원의원으로 구성되어 있다. 임기는 6년이며, 2년마다 50개주 중 1/3씩 상원의원을 새로 선출하여 연방에 보낸다.\\\\n\\\\n미국 상원은 미국 하원과는 다르게 미국 대통령을 수반으로 하는 미국 연방 행정부에 각종 동의를 하는 기관이다. 하원이 세금과 경제에 대한 권한, 대통령을 포함한 대다수의 공무원을 파면할 권한을 갖고 있는 국민을 대표하는 기관인 반면 상원은 미국의 주를 대표한다. 즉 캘리포니아주, 일리노이주 같이 주 정부와 주 의회를 대표하는 기관이다. 그로 인하여 군대의 파병, 관료의 임명에 대한 동의, 외국 조약에 대한 승인 등 신속을 요하는 권한은 모두 상원에게만 있다. 그리고 하원에 대한 견제 역할(하원의 법안을 거부할 권한 등)을 담당한다. 2년의 임기로 인하여 급진적일 수밖에 없는 하원은 지나치게 급진적인 법안을 만들기 쉽다. 대표적인 예로 건강보험 개혁 당시 하원이 미국 연방 행정부에게 퍼블릭 옵션(공공건강보험기관)의 조항이 있는 반면 상원의 경우 하원안이 지나치게 세금이 많이 든다는 이유로 퍼블릭 옵션 조항을 제외하고 비영리건강보험기관이나 보험회사가 담당하도록 한 것이다. 이 경우처럼 상원은 하원이나 내각책임제가 빠지기 쉬운 국가들의 국회처럼 걸핏하면 발생하는 의회의 비정상적인 사태를 방지하는 기관이다. 상원은 급박한 처리사항의 경우가 아니면 법안을 먼저 내는 경우가 드물고 하원이 만든 법안을 수정하여 다시 하원에 되돌려보낸다. 이러한 방식으로 단원제가 빠지기 쉬운 함정을 미리 방지하는 것이다.날짜=2017-02-05 미국 상의원 또는 미국 상원(united states senate)은 양원제인 미국 의회의 상원이다.\\\\n\\\\n미국 부통령이 상원의장이 된다. 각 주당 2명의 상원의원이 선출되어 100명의 상원의원으로 구성되어 있다. 임기는 6년이며, 2년마다 50개주 중 1/3씩 상원의원을 새로 선출하여 연방에 보낸다.\\\\n\\\\n미국 상원은 미국 하원과는 다르게 미국 대통령을 수반으로 하는 미국 연방 행정부에 각종 동의를 하는 기관이다. 하원이 세금과 경제에 대한 권한, 대통령을 포함한 대다수의 공무원을 파면할 권한을 갖고 있는 국민을 대표하는 기관인 반면 상원은 미국의 주를 대표한다. 즉 캘리포니아주, 일리노이주 같이 주 정부와 주 의회를 대표하는 기관이다. 그로 인하여 군대의 파병, 관료의 임명에 대한 동의, 외국 조약에 대한 승인 등 신속을 요하는 권한은 모두 상원에게만 있다. 그리고 하원에 대한 견제 역할(하원의 법안을 거부할 권한 등)을 담당한다. 2년의 임기로 인하여 급진적일 수밖에 없는 하원은 지나치게 급진적인 법안을 만들기 쉽다. 대표적인 예로 건강보험 개혁 당시 하원이 미국 연방 행정부에게 퍼블릭 옵션(공공건강보험기관)의 조항이 있는 반면 상원의 경우 하원안이 지나치게 세금이 많이 든다는 이유로 퍼블릭 옵션 조항을 제외하고 비영리건강보험기관이나 보험회사가 담당하도록 한 것이다. 이 경우처럼 상원은 하원이나 내각책임제가 빠지기 쉬운 국가들의 국회처럼 걸핏하면 발생하는 의회의 비정상적인 사태를 방지하는 기관이다. 상원은 급박한 처리사항의 경우가 아니면 법안을 먼저 내는 경우가 드물고 하원이 만든 법안을 수정하여 다시 하원에 되돌려보낸다. 이러한 방식으로 단원제가 빠지기 쉬운 함정을 미리 방지하는 것이다.날짜=2017-02-05 내각(內閣, cabinet)은 행정부의 주요 각료들로 구성되는 국가의 주요기관이다. 의원내각제에서 내각은 수상과 여러 장관으로 조직되는 합의체로, 국가의 행정권을 담당하고 국회에 대한 연대책임을 갖는다. 의원내각제에 있어서 내각은 국가행정의 최고기관인 한편 국민이 구성시키는 의회에 의하여 철저히 견제되어 의회민주주의 체제를 이룬다. 그 직접적 유래는 영국에서 국왕의 정치를 자문하던 추밀원에서 찾을 수 있다. 특히 내각은 추밀원의 일개 회의에서 시작하였다가 권한이 집중되어 분리된 기관으로, 이후 국왕의 실권이 사라지고 일명 웨스트민스터 시스템으로 불리는 의원내각제가 성립하면서 의회에 의한 민주적 행정부를 이루게 되었다. 한편 국가원수에게 대부분의 권력이 집중되는 대통령중심제와 군주제에서 내각은 원칙적으로 의결권이 없거나 의결의 구속력이 없는 보좌기관에 불과한 경우가 많다.(예: 대한민국의 국무회의) 대한민국은 국무회의가 내각에 속하며 권한이 대통령에 비해 제한적이다. 과거 왕조시대 때는 고려시대의 중서문하성, 중추원, 육부 또는 조선시대의 의정부와 육조가 내각과 비슷한 성향을 지니고 있었다.',\n",
              " \"'근대적 경영학' 또는 '고전적 경영학'에서 현대적 경영학으로 전환되는 시기는 1950년대이다. 2차 세계대전을 마치고, 6.25전쟁의 시기로 유럽은 전후 재건에 집중하고, 유럽 제국주의의 식민지가 독립하여 아프리카, 아시아, 아메리카 대륙에서 신생국가가 형성되는 시기였고, 미국은 전쟁 이후 경제적 변화에 기업이 적응을 해야 하던 시기였다. 특히 1954년 피터 드러커의 저서 《경영의 실제》는 현대적 경영의 기준을 제시하여서, 기존 근대적 인사조직관리를 넘어선 현대적 인사조직관리의 전환점이 된다. 드러커는 경영자의 역할을 강조하며 경영이 현시대 최고의 예술이자 과학이라고 주장하였고 , 이 주장은 21세기 인사조직관리의 역할을 자리매김했다.\\\\n\\\\n현대적 인사조직관리와 근대 인사조직관리의 가장 큰 차이는 통합이다. 19세기의 영향을 받던 근대적 경영학(고전적 경영)의 흐름은 기능을 강조하였지만, 1950년대 이후의 현대 경영학은 통합을 강조하였다. 기능이 분화된 '기계적인 기업조직' 이해에서 다양한 기능을 인사조직관리의 목적, 경영의 목적을 위해서 다양한 분야를 통합하여 '유기적 기업 조직' 이해로 전환되었다. 이 통합적 접근방식은 과정, 시스템, 상황을 중심으로 하는 인사조직관리 방식을 형성했다. 스포츠의학의 원조라고 할 수 있는 사람은 고대 로마 시대의 의사이자 해부학자인 클라우디오스 갈레노스이다. 그는 소아시아의 페르가몬에서 태어나 200년 사망할 때까지 해부학과 생리학 등에 수많은 의학적 공헌을 남겼다. 또한 당시 전사들의 주치의로 임명되어 스포츠 외상의 처치법을 개발하고 건강관리를 하여 현대 스포츠에 존재하는 팀닥터의 시조라고 할 수 있다. 19세기 후반부터는 과학문명이 급속도로 발달함에 따라 스포츠의학도 이러한 과학적 발판 위에서 연구되기 시작하였고, 특히 근육의 생리학적 연가 활발해졌다. 1910년에는 지그프리드 바이스바인이 베를린에서 『스포츠 위생』이라는 책을 발간하였는데 이것이 과학적 스포츠 의학의 탄생으로 받아들여지고 있다. 또한 제1차 세계대전 후에는 스포츠의 의학적 연구가 세계 각지에서 본격적인 활동을 개시하였다. 1928년에는 스위스 남동부의 스키장인 장크트 모리츠에서 개최된 제2회 올림픽 동계대회를 계기로 국제스포츠의학연맹(fims: f d ration internationalede medicin sportive)이 결성되었으며, 같은 해에 암스테르담 올림픽대회에서 제1회 국제스포츠의학회가 개최되어 이때부터 스포츠의학의 연구는 국제적 규모로 변모하였고, 이 시기가 현대 스포츠의학연구의 시발점이라고도 할 수 있다. 인류 역사에서 무리를 지어 살기 시작하면서 조직이 시작되었다. 인류를 위한 다양한 조직이 있었으며, 그 중에서도 가장 강력한 조직으로 ‘군사조직’과 ‘종교조직’이 있다. 이 두 조직은 지금도 현대 경영에서 참조하는 영역이다. 현대 기업의 ‘경영전략’은 군사조직의 전략 이론에서 영향을 받아 발전한 것이고, ‘목표에 의한 관리’ 역시 기독교 수도원의 성직자의 자기 관리에서 발전한 것이다. 기업이 사용하는 ‘미션선언’ 역시 기독교의 신앙고백과 신조에서 발전한 형태이다. 신생 조직인 기업조직은 인류와 함께 한 조직에서 끊임 없이 배우고, 흡수해 왔으며, 독자적인 형태의 결과를 산출하고 있다. 근대의 인사조직관리는 신생조직인 기업이 체계화하는 20세기 초에 다양한 시장을 경험하며 기업조직의 발전으로 단순한 경험으로 운영하던 기업관리의 한계가 나타나면서 체계적인 조직관리를 위한 노력이 시작되었다. 근대주의 영향 아래 20세기 초 근대적 인사조직관리의 연구가 진행되며, 과학적 경영이 작업자의 생산성을 높이는 관점에서 등장하기 시작했다. 이후 일반관리론으로, 행동적 접근, 계량적 접근 방식으로 근대적 경영관리 이론이 등장하였다. 현대적 경영 연구에서 '통합적이고 상황을 지향하는 다양한 이론들이 등장하며 현대 인사조직관리의 연구가 진행된다.\",\n",
              " '강희제는 강화된 황권으로 거의 황제 중심의 독단적으로 나라를 이끌어 갔기에 자칫 전제 독재의 가능성이 보일 수도 있었으나, 스스로 황권을 조절하고 정치의 일부는 재상들이나 대신들과 의논하였으며 당시 궁핍하게 살고 있는 한족들의 사정을 잘 알고 있던 한족 대신들의 의견을 수용하여 정책을 실행하고 선정을 베풀었다. 프랑스의 예수회 선교사 부베는 루이 14세에게 다음과 같이 보고하였다. \\\\n강희제는 세상에서 가장 부유한 군주입니다. 그럼에도 황제인 그의 생활용품들은 사치스러움과 화려함과는 거리가 멀다 못해 소박하기 그지없습니다. 역대 제왕들 가운데 전례없는 일입니다.\\\\n강희제 스스로도 자신이 직접 쓴 《근검록》에서 다음과 같이 쓰고 있다\\\\n모든 비용은 백성들의 피땀으로 얻어진 것이니 주인된 황제로서 절제하고 절제함은 당연한 것이 아닌가\\\\n\\\\n이런 강희제의 인자한 정치는 한족이 만주족의 청나라를 지지하게 만드는 데에 크게 일조하였다. 1717년(강희 56년) 강희제는 〈고별상유〉(告別上諭), 즉 마지막으로 백성들에게 바치는 글을 남겼는데 강희제는 “한 가지 일에 부지런하지 않으면 온 천하에 근심을 끼치고, 한 순간에 부지런하지 않으면 천추만대에 우환거리를 남긴다.”라고 역설하였다. 또한 “제왕이 천하를 다스림에 능력이 있는 자를 가까이 두고, 백성들의 세금을 낮추어 주어야 하며, 백성들의 마음을 하나로 묶고, 위태로움이 생기기 전에 나라를 보호하며, 혼란이 있기 전에 이를 먼저 파악하여 잘 다스리고, 관대하고 엄격함의 조화를 이루어 나라를 위한 계책을 도모해야 한다.”라고 후대의 황제에게도 이를 훈계하였다. 강희제는 황제로서 자식과 같은 백성들에게 이런 당부의 말을 남겨 황제로서의 도리를 다하려 하였다. 강희제는 강화된 황권으로 거의 황제 중심의 독단적으로 나라를 이끌어 갔기에 자칫 전제 독재의 가능성이 보일 수도 있었으나, 스스로 황권을 조절하고 정치의 일부는 재상들이나 대신들과 의논하였으며 당시 궁핍하게 살고 있는 한족들의 사정을 잘 알고 있던 한족 대신들의 의견을 수용하여 정책을 실행하고 선정을 베풀었다. 프랑스의 예수회 선교사 부베는 루이 14세에게 다음과 같이 보고하였다. 강희제는 세상에서 가장 부유한 군주입니다. 그럼에도 황제인 그의 생활용품들은 사치스러움과 화려함과는 거리가 멀다 못해 소박하기 그지없습니다. 역대 제왕들 가운데 전례없는 일입니다. 강희제 스스로도 자신이 직접 쓴 《근검록》에서 다음과 같이 쓰고 있다 모든 비용은 백성들의 피땀으로 얻어진 것이니 주인된 황제로서 절제하고 절제함은 당연한 것이 아닌가 이런 강희제의 인자한 정치는 한족이 만주족의 청나라를 지지하게 만드는 데에 크게 일조하였다. 1717년(강희 56년) 강희제는 〈고별상유〉(告別上諭), 즉 마지막으로 백성들에게 바치는 글을 남겼는데 강희제는 “한 가지 일에 부지런하지 않으면 온 천하에 근심을 끼치고, 한 순간에 부지런하지 않으면 천추만대에 우환거리를 남긴다.”라고 역설하였다. 또한 “제왕이 천하를 다스림에 능력이 있는 자를 가까이 두고, 백성들의 세금을 낮추어 주어야 하며, 백성들의 마음을 하나로 묶고, 위태로움이 생기기 전에 나라를 보호하며, 혼란이 있기 전에 이를 먼저 파악하여 잘 다스리고, 관대하고 엄격함의 조화를 이루어 나라를 위한 계책을 도모해야 한다.”라고 후대의 황제에게도 이를 훈계하였다. 강희제는 황제로서 자식과 같은 백성들에게 이런 당부의 말을 남겨 황제로서의 도리를 다하려 하였다. 현재는 대만 문제와 맞물려서 ‘하나의 중국’ 정책을 내세우고 있는 중화인민공화국에서 강희제의 대만 수복과 몽골 정복 등 그의 민족 융합 업적과 백성을 중히 여기는 이른바 ‘섬기는 리더십’을 높이 사 크게 추켜세운다. 중화인민공화국 국가주석인 장쩌민과 후진타오, 국무원 총리를 지낸 주룽지 역시 중국을 발전시키기 위해서는 강희제에게서 본받아야 한다고 역설하였다. 그러나 일부 학자들은 과거 한족들이 오랑캐라 멸시하던 만주족 출신이고 그들의 지도자였던 강희제를 지금은 한족 중심의 중화인민공화국이 정치 스타일과 대만 수복 등에서 크게 추켜세우는 인물로 둔갑되었다며 이러한 열렬한 강희제 숭배 운동을 비판하였다. 이러한 중국의 적극적인 강희제 홍보는 문화·예술 방면에서도 나타난다. 중화인민공화국의 작가 얼웨허(이월하, 二月河)가 쓴 소설 《강희대제》는 중화인민공화국에서 큰 반향을 일으켰으며, 후속작들인 소설 《옹정황제》·《건륭황제》 등도 독자 사이에서 높은 인기를 구가하였다. 2001년에 중국중앙방송에서 소설 《강희대제》를 원작으로 한 《강희왕조》(康熙王朝)가 방송되어 최고의 시청률을 기록한 사극 드라마 중 하나로 선풍적인 인기를 끌었다. 강희제 역을 맡은 중화인민공화국의 중견 배우인 천다오밍(진도명, 陳道明)은 어린 나이에 즉위한 강희제의 파란만장한 인생과 그의 리더십, 자식들로 인하여 골치를 앓는 모습 등을 잘 보여주었다. 이로 젊은이들에게 강희제의 모습과 그의 이름을 더욱 많이 각인시켜, 중국의 국민 배우 중 한 명으로 자리매김되었다. 《강희왕조》를 시작으로 강희제를 다룬 많은 작품들이 중화인민공화국과 중화민국에서 방송되었고, 이 작품들의 인기 역시 높았다. 《강희왕조》 전에 방송하였으나 강희제의 다음 세대인 옹정 시대를 시대적 배경을 다룬 드라마 《옹정왕조》(雍正王朝)에서도 강희제는 현명하지만 《강희왕조》 때보다 자식들의 일로 피곤한 삶을 산 황제의 모습을 잘 보여주었다. 그러나 홍콩 무협 드라마 《군림천하》(君臨天下)에서는 차남인 윤잉과 14남 윤제만을 편애하다가 이것이 한번도 부정을 받지 못하고 자란 4남 윤진에게 자극제가 되어 결국 윤진에게 염주로 목졸려 살해당하는 비운의 군주로 나온다. 무협소설가 김용(金庸) 역시 청년의 강희제가 오배, 오삼계, 정경 등과 마찰을 빚을 때를 배경으로 한 무협소설 《녹정기》(鹿鼎記)를 썼는데, 여기에서 강희제는 매우 호방한 군주로 나온다. 이 소설은 여러 차례 중국 및 홍콩특별행정구역 그리고 대만의 방송국에서 제작·방영되었다. 대한민국에서는 과거 itv에서 방영되었던 《회옥공주》(懷玉公主)에서 명나라 영력제의 공주를 사랑하는 황제로 나왔으나 이 드라마에서 전개되는 내용은 거의 허구였다. 아직도 강희제는 그의 손자 건륭제, 할머니인 효장문황후, 그리고 청나라의 문을 닫는 서태후와 함께 청나라를 배경으로 한 역사 예술 작품 중 가장 많이 다루어지는 인물이다. 2008년 마이크로소프트 사에서 만든 게임 에이지 오브 엠파이어 3: 아시아 왕조에 나오는 문명 중 하나인 중국의 지도자가 강희제이기도 하며 게임 역사에 그의 이력과 통치 철학 등의 내용이 상세히 기술되어 있는 등 유럽 및 아메리카 대륙에서도 성군으로 알려져 있다.',\n",
              " '불상을 모시기 위해 나무나 돌, 쇠 등을 깎아 일반적인 건축물보다 작은 규모로 만든 것을 불감(佛龕)이라고 한다. 불감은 그 안에 모신 불상의 양식뿐만 아니라, 당시의 건축 양식을 함께 살필 수 있는 중요한 자료가 된다. \\\\n\\\\n이 작품은 높이 18cm의 작은 불감으로, 청동으로 불감과 불상을 만들고 그 위에 금칠을 하였다. 불감 내부를 살펴보면 난간을 두른 사각형의 기단 위에 본존불과 양 옆에 보살상이 있으며, 그 위에 기둥과 지붕으로 된 뚜껑이 덮혀 있다. 법당 모양의 뚜껑에는 앞면과 양쪽에 커다란 창문이 있어서 안에 모셔진 불상을 잘 볼 수 있도록 하였다.\\\\n\\\\n본존불은 얼굴이 추상적이고, 양 어깨를 감싸고 있는 옷은 주름을 간략한 선으로 표현했다. 몸 뒤편에 있는 광배(光背)는 머리광배와 몸광배로 나누어져 있으며, 불꽃무늬로 가장자리를 장식하고 있다. 본존불 양 옆의 보살상도 구슬로 장식된 관(冠)을 쓰고 있다는 점을 제외하면 형식이나 표현 수법이 본존불과 유사하다.\\\\n\\\\n불감은 지금도 금색이 찬란하고 지붕에 녹청색이 남아 있는 등 전체적인 보존 상태가 양호하다. 본존불의 긴 허리, 불규칙하게 나타나는 옷주름, 그리고 보살이 쓰고 있는 구슬로 장식한 관(冠) 등 여러 양식으로 보아 만든 시기는 중국 북방 계통의 영향을 받은 11∼12세기 경으로 추정된다. 이 작품은 고려시대 또는 그 이전의 목조건축 양식과 조각수법을 보여주는 귀중한 예라는 점에서 가치가 크다고 할 수 있다. 이 불상군은 1978년 발견되어 학계에 알려졌으며 봉황리 햇골산 중턱 두 곳에 약간 떨어져 위치한다. 아래편에는 앉은 자세의 본존불과 공양상, 반가사유상과 보살상 등 모두 8구로 이루어진 불상군이 위치한다. 불상들은 바위가 놓인 방향에 따라 동남쪽을 향하고 있으며 각각의 크기는 대략 1m 안팎이다. 여래상의 당당한 어깨와 가슴, 손 모양, 두꺼운 옷주름 그리고 공양상의 고리장식과 허리띠 처리 등은 삼국시대 불상에서 보이는 특징이며, 특히 괭이모양의 대좌나 보살상의 갸름한 얼굴은 고구려 양식을 잘 따르고 있다. 왼편으로 조금 떨어진 윗편에는 규모가 큰 마애여래좌상이 동쪽을 향하여 조각되어 있는데 무릎에 비하여 상체는 짧고 네모났으며 얼굴도 4각형에 가까운데 통일신라시대의 마애불로 추정된다. 두광에는 화불이 5구 새겨져 있는데 조금 경직된 듯하나 귀엽고 친근한 느낌을 준다. 불상군 주위에 기와, 도자기 등이 수습되고 있어 이곳에 예전에 절이 조성되었음을 짐작케한다. 봉황리 마애불상군은 한국의 석물 가운데 이른시기인 6세기 후반 ~ 7세기초에 조성된 것으로 추정되며 멀지않은 곳에 남한강이 있어 강변을 따라 불교문화가 전파되었음을 보여주는 귀중한 자료로 조형적·역사적 가치가 높다. 이 불화는 17세기말에서 18세기 초 팔공산 일대에서 활발한 활동을 펼친 의균의 제자인 쾌민과 체준 등이 함께 1724년에 제작한 영산회상도로서 중앙의 석가모니불을 중심으로 보살과 제자, 호법신 등이 빽빽하게 둘러싸는 전형적인 군도형식을 보여주고 있다. 본존의 키형 광배와 뾰족한 육계표현, 양감있는 인물표현, 중후한 사천왕의 신체표현 등은 스승인 의균이 제작한 기림사 비로자나삼불회도와 유사한 특징을 보여주고 있어 스승의 양식을 잘 계승하고 있다. 그러면서도 색채에서 적색과 녹색의 강한 대조를 이루는 색채감이나 권속이 본존을 빽빽하게 둘러싼 구성 등은 의균과는 다른 특징을 보여주고 있으며, 이와 같은 화풍적 특징은 1728년 이후 불화 화풍을 주도하고 있다는데서 더욱 큰 학술적 의미가 있다고 판단된다. 또한 이 불화는 화기뿐만 아니라 발원문을 비롯하여 후령통 등 격식을 제대로 갖춘 복장주머니(腹藏囊)도 가지고 있어 불화 제작의 상황을 짐작하는데 더 없이 중요한 정보를 제공하고 있다.',\n",
              " \"동아대학교박물관에서 소장하고 있는 계사명 사리구는 총 4개의 용기로 구성된 조선후기의 유물로, 경상남도 울주군 웅촌면 대복리에서 출토되었다고 전한다. 외함(外函)은 청화명문이 있는 백자이며, 그 안쪽에 납작한 금속제 원형 합 2점과 금속제 원통형 합 등 3점의 그릇이 봉안되어 있다.\\\\n\\\\n바깥쪽의 외함인 백자 합 동체 중앙부 표면에 청화안료로 쓴 “癸巳二月日 施主承表 兩主”라는 명문이 세로로 세 줄에 걸쳐서 쓰여 있어 조선 후기인 계사년에 시주자인 승표 부부가 발원하여 만든 것임을 알 수 있다.\\\\n\\\\n동아대학교박물관의 계사명 사리구는 정확한 제작연대는 알 수 없지만 명문 등을 통해 적어도 17세기 이후에 제작된 것으로 추정되는 작품으로, 명문이 있는 조선 후기 경상도 지역 출토 사리장엄구라는 점에서 중요한 가치를 지닌 작품으로 판단된다.\\\\n\\\\n조선 후기 사리장엄구는 아직까지 조사와 연구가 거의 이루어지지 않았으나, 이처럼 세트를 갖추어 출토된 유물은 비교적 드문 편임을 고려할 때, 이 계사명 사리장엄구는 제작연대와 발원자의 이름이 밝혀져 있으며, 지금까지 출토된 예가 드문 비교적 완전한 세트를 가진 유물이라는 점에서 조선 후기 사리장엄구 연구에 자료적 가치를 지닌 유물이다. 양산 통도사의 금동천문도의 전면에는 천구(天球)의 북극을 중심으로 둥글게 북극으로 부터 적도부근에 이르는 영역의 별자리들이 표시되어 있고, 항현권(恒顯圈, 주극성(週極星) 영역))이 직경 19cm가 되는 둥근원으로 그려져 있다. 별자리의 형태나 위치는 조선 초기의 천상열차분야지도와 비교해 보아 대체로 일치하며, 동판 위에 표시된 별자리는 천상열차 분야지도의 모든 별 가운데 중요하게 여겨지는 109 개의 별자리(자미원과 28수)이며 별의 총 개수는 481개이다. 각 별자리는 별과 별 사이가 선으로 연결되어 있으며, 별 하나하나마다 구멍을 뚫어 진주를 박아 넣어 아름답게 조립했던 것으로 보인다. 현재는 24개의 진주만이 남아 있는데 별에 따라서 0.5cm, 0.7cm등 여러가지 종류의 것들이 구멍에 박혀 있다. 별자리 이외에 3개의 구멍이 원판의 중심부근과 좌우 바깥부근에 일직선상으로 놓여져 있는데, 어두운 상황에서도 천문도의 방향을 파악할 수 있고 28 수 등 각 별자리들을 손으로 더듬어 알 수 있어 하늘을 보면서 별자리를 찾아 볼 수 있었으리라 생각된다. 실제 별을 관측할 수 있도록 진주보석에 희미한 빛을 비추어 별자리를 찾거나 익히는데 편리했을 이 천문도판은 휴대하여 사용에 편리하도록 제작된 과학유물로 볼 수 있다. 후면에는 점각(點刻)으로 표현된 송악도(松岳圖)가 있는데 봉우리가 다섯 개인 오악(五嶽, 수미산을 상징?)과 두 그루의 소나무가 그려져 있고, 그 아래에 바다가 표현되어 있어 전통공예품으로서의 예술적인 가치는 물론 회화사 및 사상사적인 측면에서도 연구가치가 높다 하겠다. 그림 우측하단에 「순치구년일진구월(順治九年壬辰九月) 삼각산문주암지구(三角山文殊庵比丘尼) 선화자조성(仙化子造成)」이라는 명문이 점각(點刻)되어 있어 이 천문도는 1652년(조선 효종3년) 비구니 선화자가 조성하였음을 알 수 있다. 경기도 용인시 기흥구 신갈동 산5번지에서 조선시대 현화사 터가 발견되었는데 현화사지(玄化寺址)는 용인 신갈택지개발지구 중에서 2000년 기전문화재연구원이 약 1,400여 평에 대하여 구제발굴을 했을 때 발견되었다. 발굴 결과 중복된 건물지 2동과 담장지 2개소가 훼손되었다. 유적에서 출토된 주요 유물은 기와류와 자기류이고 불상대좌도 발견되었는데 출토 기와 중 어골문양과 변형어골문양이 그려져 있는 것은 고려 말에서 조선 전기에 유행한 것들이다. 특히 '계묘년(癸卯年)', '현화사축완염혜용(玄化寺築完念惠用)”이라는 명문이 새겨진 기와편이 출토되었는데, 풀이하면 '계묘년에 현화사 축성이 완료되니 은혜롭게 사용되기를 염원한다'라는 내용으로 이 곳이 계묘년(癸卯年, 1483년 조선 성종 14년)에 축성된 현화사지(玄化寺址)였음이 증명되었다. 그러나 1020년(현종 11)에 건립되었다는 경기도 개풍군 현화사지(玄化寺址)와는 이름만 같을 뿐 관련이 없다. 절터에서 출토된 자기류에는 분청사기와 백자 및 청자 등이 있고 분청사기에는 인화기법과 귀얄기법 등으로 화문양과 점열문양, 나비문양 등이 그려져 있었다. 그릇의 종류는 대접과 접시가 대부분인데 동반 출토된 백자의 그릇의 형태는 대접·접시·종지 등이다. 분청사기와 백자의 그릇의 형태는 15~16세기의 양식으로 분청사기는 15세기경의 것으로 밝혀졌다.\"]"
            ]
          },
          "metadata": {
            "tags": []
          },
          "execution_count": 42
        }
      ]
    },
    {
      "cell_type": "code",
      "metadata": {
        "id": "i1a9TUSUqbyw"
      },
      "source": [
        "tdk12_tag_dataset2.save_to_disk(path+#데이터 셋 이름)"
      ],
      "execution_count": null,
      "outputs": []
    }
  ]
}